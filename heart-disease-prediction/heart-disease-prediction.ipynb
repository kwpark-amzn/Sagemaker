{
 "cells": [
  {
   "cell_type": "markdown",
   "metadata": {},
   "source": [
    "## 소개\n",
    "\n",
    "\n",
    "이 샘플은 환자가 심장병에 걸렸는지를 알아내는 데 사용되는 이진 분류(binary classification) 알고리즘 입니다. 이 예에서는 UCI 저장소에서 가져온 Cleveland Heart Disease 데이터 세트에서 샘플 데이터를 업로드합니다. 데이터 세트는 303개의 개별 데이터로 구성됩니다. 컬럼 설명 및 샘플 데이터는 데이터 저장소를 참조하십시오:\n",
    "https://archive.ics.uci.edu/ml/datasets/heart+Disease 샘플 데이터를 다운로드하고 데이터를 S3 버킷에 저장한 다음 이 노트북의 셀을 실행하여 자체 모델을 구축하고 배포할 수 있습니다.\n",
    "\n",
    "이 튜토리얼의 나머지 부분에서는 이진 분류(binary classification) 알고리즘을 사용하여 심장병을 예측하는 방법에 대해 설명합니다\n",
    "\n"
   ]
  },
  {
   "cell_type": "markdown",
   "metadata": {},
   "source": [
    "필요한 Python 라이브러리를 import 합니다. "
   ]
  },
  {
   "cell_type": "code",
   "execution_count": 1,
   "metadata": {},
   "outputs": [],
   "source": [
    "import os                                         # For manipulating filepath names  \n",
    "import sys                                        # For writing outputs to notebook\n",
    "import math                                       # For ceiling function\n",
    "import json                                       # For parsing hosting outputs\n",
    "import io\n",
    "import numpy as np                                # For matrix operations and numerical processing\n",
    "import pandas as pd                               # For munging tabular data\n",
    "from time import gmtime, strftime                 # For labeling SageMaker models, endpoints, etc.\n",
    "\n",
    "import sagemaker                                  # Amazon SageMaker's Python SDK provides many helper functions\n",
    "from sagemaker import get_execution_role          # Define IAM role\n",
    "import sagemaker.amazon.common as smac\n",
    "import boto3"
   ]
  },
  {
   "cell_type": "markdown",
   "metadata": {},
   "source": [
    "## 설정\n",
    "\n",
    "다음을 설정하는 것으로 시작 해보겠습니다.\n",
    "\n",
    "* SageMaker Role은 데이터에 대한 학습 및 호스팅 액세스 권한을 부여하는 데 사용됩니다. <br />\n",
    "  아래 코드는 SageMaker 노트북 인스턴스에서 사용하는 것과 동일한 역할을 사용합니다. 그렇지 않은 경우 SageMakerFullAccess 정책이 연결된 역할의 전체 ARN을 지정합니다.\n",
    "* 모델 객체를 훈련하고 저장하는 데 사용하려는 S3 버킷 지정"
   ]
  },
  {
   "cell_type": "code",
   "execution_count": 2,
   "metadata": {
    "isConfigCell": true,
    "tags": [
     "parameters"
    ]
   },
   "outputs": [],
   "source": [
    "#버킷명 입력\n",
    "#bucket = '{ENTER_BUCKET_NAME}' # 20220422-sagemaker-workshop-jbuh-kwpark\n",
    "bucket = '20220422-sagemaker-workshop-jbuh-kwpark' # 20220422-sagemaker-workshop-jbuh-kwpark\n",
    "prefix = 'sagemaker/heart-disease'\n",
    "\n",
    "#데이터 파일명 입력 (ex. heart.csv)\n",
    "data_key = 'heart.csv'\n",
    "data_location = 's3://{}/{}'.format(bucket, data_key)\n",
    " \n",
    "# IAM role 설정\n",
    "import re\n",
    "role = get_execution_role()"
   ]
  },
  {
   "cell_type": "markdown",
   "metadata": {},
   "source": [
    "### 데이터 수집\n",
    "\n",
    " 데이터를 수집하기 전에 UCI 저장소의 데이터 세트(예: heart_data.csv)가 S3 버킷에 업로드되었는지 확인하십시오. 기본적으로 SageMaker 역할은 'sageMaker*'로 시작하는 버킷에 액세스할 수 있습니다. 아래 코드는 지정된 S3 버킷에서 데이터를 읽고 샘플을 출력합니다.\n"
   ]
  },
  {
   "cell_type": "code",
   "execution_count": 3,
   "metadata": {},
   "outputs": [
    {
     "data": {
      "text/html": [
       "<div>\n",
       "<style scoped>\n",
       "    .dataframe tbody tr th:only-of-type {\n",
       "        vertical-align: middle;\n",
       "    }\n",
       "\n",
       "    .dataframe tbody tr th {\n",
       "        vertical-align: top;\n",
       "    }\n",
       "\n",
       "    .dataframe thead th {\n",
       "        text-align: right;\n",
       "    }\n",
       "</style>\n",
       "<table border=\"1\" class=\"dataframe\">\n",
       "  <thead>\n",
       "    <tr style=\"text-align: right;\">\n",
       "      <th></th>\n",
       "      <th>age</th>\n",
       "      <th>sex</th>\n",
       "      <th>cp</th>\n",
       "      <th>trestbps</th>\n",
       "      <th>chol</th>\n",
       "      <th>fbs</th>\n",
       "      <th>restecg</th>\n",
       "      <th>thalach</th>\n",
       "      <th>exang</th>\n",
       "      <th>oldpeak</th>\n",
       "      <th>slope</th>\n",
       "      <th>ca</th>\n",
       "      <th>thal</th>\n",
       "      <th>target</th>\n",
       "    </tr>\n",
       "  </thead>\n",
       "  <tbody>\n",
       "    <tr>\n",
       "      <th>0</th>\n",
       "      <td>63</td>\n",
       "      <td>1</td>\n",
       "      <td>3</td>\n",
       "      <td>145</td>\n",
       "      <td>233</td>\n",
       "      <td>1</td>\n",
       "      <td>0</td>\n",
       "      <td>150</td>\n",
       "      <td>0</td>\n",
       "      <td>2.3</td>\n",
       "      <td>0</td>\n",
       "      <td>0</td>\n",
       "      <td>1</td>\n",
       "      <td>1</td>\n",
       "    </tr>\n",
       "    <tr>\n",
       "      <th>1</th>\n",
       "      <td>37</td>\n",
       "      <td>1</td>\n",
       "      <td>2</td>\n",
       "      <td>130</td>\n",
       "      <td>250</td>\n",
       "      <td>0</td>\n",
       "      <td>1</td>\n",
       "      <td>187</td>\n",
       "      <td>0</td>\n",
       "      <td>3.5</td>\n",
       "      <td>0</td>\n",
       "      <td>0</td>\n",
       "      <td>2</td>\n",
       "      <td>1</td>\n",
       "    </tr>\n",
       "    <tr>\n",
       "      <th>2</th>\n",
       "      <td>41</td>\n",
       "      <td>0</td>\n",
       "      <td>1</td>\n",
       "      <td>130</td>\n",
       "      <td>204</td>\n",
       "      <td>0</td>\n",
       "      <td>0</td>\n",
       "      <td>172</td>\n",
       "      <td>0</td>\n",
       "      <td>1.4</td>\n",
       "      <td>2</td>\n",
       "      <td>0</td>\n",
       "      <td>2</td>\n",
       "      <td>1</td>\n",
       "    </tr>\n",
       "    <tr>\n",
       "      <th>3</th>\n",
       "      <td>56</td>\n",
       "      <td>1</td>\n",
       "      <td>1</td>\n",
       "      <td>120</td>\n",
       "      <td>236</td>\n",
       "      <td>0</td>\n",
       "      <td>1</td>\n",
       "      <td>178</td>\n",
       "      <td>0</td>\n",
       "      <td>0.8</td>\n",
       "      <td>2</td>\n",
       "      <td>0</td>\n",
       "      <td>2</td>\n",
       "      <td>1</td>\n",
       "    </tr>\n",
       "    <tr>\n",
       "      <th>4</th>\n",
       "      <td>57</td>\n",
       "      <td>0</td>\n",
       "      <td>0</td>\n",
       "      <td>120</td>\n",
       "      <td>354</td>\n",
       "      <td>0</td>\n",
       "      <td>1</td>\n",
       "      <td>163</td>\n",
       "      <td>1</td>\n",
       "      <td>0.6</td>\n",
       "      <td>2</td>\n",
       "      <td>0</td>\n",
       "      <td>2</td>\n",
       "      <td>1</td>\n",
       "    </tr>\n",
       "  </tbody>\n",
       "</table>\n",
       "</div>"
      ],
      "text/plain": [
       "   age  sex  cp  trestbps  chol  fbs  restecg  thalach  exang  oldpeak  slope  \\\n",
       "0   63    1   3       145   233    1        0      150      0      2.3      0   \n",
       "1   37    1   2       130   250    0        1      187      0      3.5      0   \n",
       "2   41    0   1       130   204    0        0      172      0      1.4      2   \n",
       "3   56    1   1       120   236    0        1      178      0      0.8      2   \n",
       "4   57    0   0       120   354    0        1      163      1      0.6      2   \n",
       "\n",
       "   ca  thal  target  \n",
       "0   0     1       1  \n",
       "1   0     2       1  \n",
       "2   0     2       1  \n",
       "3   0     2       1  \n",
       "4   0     2       1  "
      ]
     },
     "execution_count": 3,
     "metadata": {},
     "output_type": "execute_result"
    }
   ],
   "source": [
    "# S3로부터 데이터 읽기\n",
    "heart_data = pd.read_csv(data_location)\n",
    "\n",
    "#샘플 데이터 출력\n",
    "heart_data.head()"
   ]
  },
  {
   "cell_type": "markdown",
   "metadata": {},
   "source": [
    "### 데이터 변환\n",
    "\n",
    "알고리즘에는 특정 input 및 output 요구사항이 있기 때문에 데이터 세트를 변환하는 것도 데이터 사이언티스트가 학습을 시작하기 전에 거쳐야 하는 프로세스의 일부입니다. Amazon SageMaker의 Linear Learner 알고리즘은 recordIO-wrapped protobuf 포맷을 지원합니다.\n",
    "\n",
    "아래 코드는 다음을 수행합니다:\n",
    "\n",
    "데이터를 가져와서 Numpy array로 변환합니다. SageMaker Linear Learner 알고리즘이 기대하는 float32 유형이어야 합니다.\n",
    "\n",
    "Linear Learner 알고리즘에는 observations를 나타내는 행과 feature의 dimensions 을 나타내는 열이 있는 데이터 매트릭스가 필요합니다. 또한 데이터  요소와 일치하는 라벨이 들어 있는 추가 열이 필요합니다.\n",
    "\n",
    "input의 경우 모델에 라벨이 지정된 예제(x, y)를 제공합니다. x는 고차원 벡터이고 y는 숫자 라벨입니다. 이진 분류 문제의 경우 라벨은 0 또는 1이어야 합니다.\n",
    "\n",
    "The Linear Learner 알고리즘은 특성 행렬(features matrix) 과 라벨 벡터(labels vector)가 필요합니다.\n",
    "\n",
    "라벨 열은 'target' 열입니다. 이 경우 마지막 열을 예측하여 사용자에게 심장병이 있는지 확인하려고 합니다. 값이 1이면 심장병이 있음을 나타내고 0이면 그렇지 않습니다."
   ]
  },
  {
   "cell_type": "code",
   "execution_count": 4,
   "metadata": {},
   "outputs": [
    {
     "name": "stdout",
     "output_type": "stream",
     "text": [
      "label data is\n",
      "[1. 1. 1. 1. 1. 1. 1. 1. 1. 1. 1. 1. 1. 1. 1. 1. 1. 1. 1. 1. 1. 1. 1. 1.\n",
      " 1. 1. 1. 1. 1. 1. 1. 1. 1. 1. 1. 1. 1. 1. 1. 1. 1. 1. 1. 1. 1. 1. 1. 1.\n",
      " 1. 1. 1. 1. 1. 1. 1. 1. 1. 1. 1. 1. 1. 1. 1. 1. 1. 1. 1. 1. 1. 1. 1. 1.\n",
      " 1. 1. 1. 1. 1. 1. 1. 1. 1. 1. 1. 1. 1. 1. 1. 1. 1. 1. 1. 1. 1. 1. 1. 1.\n",
      " 1. 1. 1. 1. 1. 1. 1. 1. 1. 1. 1. 1. 1. 1. 1. 1. 1. 1. 1. 1. 1. 1. 1. 1.\n",
      " 1. 1. 1. 1. 1. 1. 1. 1. 1. 1. 1. 1. 1. 1. 1. 1. 1. 1. 1. 1. 1. 1. 1. 1.\n",
      " 1. 1. 1. 1. 1. 1. 1. 1. 1. 1. 1. 1. 1. 1. 1. 1. 1. 1. 1. 1. 1. 0. 0. 0.\n",
      " 0. 0. 0. 0. 0. 0. 0. 0. 0. 0. 0. 0. 0. 0. 0. 0. 0. 0. 0. 0. 0. 0. 0. 0.\n",
      " 0. 0. 0. 0. 0. 0. 0. 0. 0. 0. 0. 0. 0. 0. 0. 0. 0. 0. 0. 0. 0. 0. 0. 0.\n",
      " 0. 0. 0. 0. 0. 0. 0. 0. 0. 0. 0. 0. 0. 0. 0. 0. 0. 0. 0. 0. 0. 0. 0. 0.\n",
      " 0. 0. 0. 0. 0. 0. 0. 0. 0. 0. 0. 0. 0. 0. 0. 0. 0. 0. 0. 0. 0. 0. 0. 0.\n",
      " 0. 0. 0. 0. 0. 0. 0. 0. 0. 0. 0. 0. 0. 0. 0. 0. 0. 0. 0. 0. 0. 0. 0. 0.\n",
      " 0. 0. 0. 0. 0. 0. 0. 0. 0. 0. 0. 0. 0. 0. 0.]\n",
      "Training data is\n",
      "[[63.  1.  3. ...  0.  0.  1.]\n",
      " [37.  1.  2. ...  0.  0.  2.]\n",
      " [41.  0.  1. ...  2.  0.  2.]\n",
      " ...\n",
      " [68.  1.  0. ...  1.  2.  3.]\n",
      " [57.  1.  0. ...  1.  1.  3.]\n",
      " [57.  0.  1. ...  1.  1.  2.]]\n"
     ]
    }
   ],
   "source": [
    "vectors = np.array(heart_data).astype('float32')\n",
    "\n",
    "#target 열 - 값은 0 이나 1 이어야 함\n",
    "labels = vectors[:,13]\n",
    "print (\"label data is\")\n",
    "print (labels)\n",
    "\n",
    "\n",
    "#target 열을 제거. 이 피쳐는 훈련 데이터의 일부로 사용\n",
    "training_data = vectors[:, :13]\n",
    "print (\"Training data is\")\n",
    "print (training_data)\n",
    "\n"
   ]
  },
  {
   "cell_type": "markdown",
   "metadata": {},
   "source": [
    "S3에 학습 데이터를 업로드해 보겠습니다."
   ]
  },
  {
   "cell_type": "code",
   "execution_count": 5,
   "metadata": {},
   "outputs": [
    {
     "name": "stdout",
     "output_type": "stream",
     "text": [
      "uploaded training data location: s3://20220422-sagemaker-workshop-jbuh-kwpark/sagemaker/heart-disease/train/recordio-pb-data\n"
     ]
    }
   ],
   "source": [
    "buf = io.BytesIO()\n",
    "smac.write_numpy_to_dense_tensor(buf, training_data, labels)\n",
    "buf.seek(0)\n",
    "\n",
    "key = 'recordio-pb-data'\n",
    "boto3.resource('s3').Bucket(bucket).Object(os.path.join(prefix, 'train', key)).upload_fileobj(buf)\n",
    "s3_train_data = 's3://{}/{}/train/{}'.format(bucket, prefix, key)\n",
    "print('uploaded training data location: {}'.format(s3_train_data))\n",
    "\n",
    "\n"
   ]
  },
  {
   "cell_type": "markdown",
   "metadata": {},
   "source": [
    "## Artifact 학습\n",
    "데이터가 학습되면 다음 위치에 업로드됩니다."
   ]
  },
  {
   "cell_type": "code",
   "execution_count": 6,
   "metadata": {
    "scrolled": true
   },
   "outputs": [
    {
     "name": "stdout",
     "output_type": "stream",
     "text": [
      "training artifacts will be uploaded to: s3://20220422-sagemaker-workshop-jbuh-kwpark/sagemaker/heart-disease/output\n"
     ]
    }
   ],
   "source": [
    "output_location = 's3://{}/{}/output'.format(bucket, prefix)\n",
    "print('training artifacts will be uploaded to: {}'.format(output_location))"
   ]
  },
  {
   "cell_type": "markdown",
   "metadata": {},
   "source": [
    "## Linear 모델 학습\n",
    "\n",
    "데이터를 사전 처리하고 올바른 학습 포맷으로 사용할 수 있게 되면 다음 단계는 데이터를 사용하여 실제로 모델을 훈련하는 것입니다. 이 데이터는 상대적으로 작기 때문에 Linear Learner 학습 알고리즘의 성능을 과시하기 위한 것이 아닙니다.\n",
    "\n",
    "Amazon SageMaker Python SDK를 사용하여 학습을 시작하고 완료될 때까지 상태를 모니터링합니다. 이 예에서는 약 7분에서 11분 정도 걸립니다. 데이터 세트가 작지만, 하드웨어 프로비저닝 및 알고리즘 컨테이너 로드에 약간의 시간이 소요됩니다."
   ]
  },
  {
   "cell_type": "markdown",
   "metadata": {},
   "source": [
    "우리는 이진 분류를 수행하고(환자가 심장 질환을 가지고 있는지 여부), 지정된 컴퓨팅(예: c5.xlarge)에서 모델을 훈련하고, 훈련 세트의 features 또는 dimiensions을 세분화합니다."
   ]
  },
  {
   "cell_type": "markdown",
   "metadata": {},
   "source": [
    "### SageMaker 의 linear-learner 를 훈련하고 호스팅하기 위해 사용되는 컨테이너 이미지 지정\n",
    "\n",
    "SageMaker 의 ECR 컨테이너를 통해 해당되는 built-in 알고리즘을 사용할 수 있습니다."
   ]
  },
  {
   "cell_type": "code",
   "execution_count": 7,
   "metadata": {},
   "outputs": [],
   "source": [
    "#from sagemaker.amazon.amazon_estimator import get_image_uri\n",
    "#import sagemaker\n",
    "from sagemaker import image_uris\n",
    "\n",
    "container = image_uris.retrieve(framework=\"linear-learner\", \n",
    "                                region=boto3.Session().region_name)"
   ]
  },
  {
   "cell_type": "markdown",
   "metadata": {},
   "source": [
    "다음으로 파라미터를 지정하여 esitmator를 생성합니다.\n",
    "\n",
    "- built-in 알고리즘 컨테이너 사용\n",
    "- 사용할 IAM 역할(role)\n",
    "- 학습용 인스턴스 타입과 수량 ('local_cpu'를 사용해 해당 노트북의 인스턴스 내에서 학습을 진행할 수도 있습니다.)\n",
    "- 출력 데이터를 위한 S3위치\n",
    "- 알고리즘 하이퍼파라미터\n",
    "\n",
    "이제 다음 파라미터를 이용하여 .fit() 명령을 실행합니다.\n",
    "\n",
    "- 학습용(train)/검증용(validation) 데이터가 있는 S3 위치\n",
    "\n",
    "본 예제는 학습과 검증 데이터셋을 모두 사용하므로 두 채널을 모두 지정합니다. Trainin job을 수행하기 위해서 학습용 서버가 생성되는데에 5분정도 소요됩니다.\n",
    "\n",
    "데이터 학습을 수행할 시에 발생하는 과금은, EC2 인스턴스의 생성 시간이 제외된 데이터를 학습하는 시간만 요금이 부과됩니다. Log의 마지막 부분에 표시되는 Training seconds와 Billable seconds를 참고하셔서 과금이 발생한 시간을 참고하실 수 있습니다.\n",
    "\n",
    "- Training seconds: Training job을 실행한 실제 컴퓨팅 학습 시간\n",
    "- Billable seconds: Spot 할인이 적용된 후 청구되는 시간"
   ]
  },
  {
   "cell_type": "code",
   "execution_count": 8,
   "metadata": {},
   "outputs": [
    {
     "name": "stdout",
     "output_type": "stream",
     "text": [
      "2022-04-21 18:40:31 Starting - Starting the training job...\n",
      "2022-04-21 18:40:54 Starting - Preparing the instances for trainingProfilerReport-1650566431: InProgress\n",
      "......\n",
      "2022-04-21 18:42:02 Downloading - Downloading input data\n",
      "2022-04-21 18:42:02 Training - Downloading the training image.....\u001b[34mDocker entrypoint called with argument(s): train\u001b[0m\n",
      "\u001b[34mRunning default environment configuration script\u001b[0m\n",
      "\u001b[34m[04/21/2022 18:42:42 INFO 140680991950656 integration.py:636] worker started\u001b[0m\n",
      "\u001b[34m[04/21/2022 18:42:42 INFO 140680991950656] Reading default configuration from /opt/amazon/lib/python3.7/site-packages/algorithm/resources/default-input.json: {'mini_batch_size': '1000', 'epochs': '15', 'feature_dim': 'auto', 'use_bias': 'true', 'binary_classifier_model_selection_criteria': 'accuracy', 'f_beta': '1.0', 'target_recall': '0.8', 'target_precision': '0.8', 'num_models': 'auto', 'num_calibration_samples': '10000000', 'init_method': 'uniform', 'init_scale': '0.07', 'init_sigma': '0.01', 'init_bias': '0.0', 'optimizer': 'auto', 'loss': 'auto', 'margin': '1.0', 'quantile': '0.5', 'loss_insensitivity': '0.01', 'huber_delta': '1.0', 'num_classes': '1', 'accuracy_top_k': '3', 'wd': 'auto', 'l1': 'auto', 'momentum': 'auto', 'learning_rate': 'auto', 'beta_1': 'auto', 'beta_2': 'auto', 'bias_lr_mult': 'auto', 'bias_wd_mult': 'auto', 'use_lr_scheduler': 'true', 'lr_scheduler_step': 'auto', 'lr_scheduler_factor': 'auto', 'lr_scheduler_minimum_lr': 'auto', 'positive_example_weight_mult': '1.0', 'balance_multiclass_weights': 'false', 'normalize_data': 'true', 'normalize_label': 'auto', 'unbias_data': 'auto', 'unbias_label': 'auto', 'num_point_for_scaler': '10000', '_kvstore': 'auto', '_num_gpus': 'auto', '_num_kv_servers': 'auto', '_log_level': 'info', '_tuning_objective_metric': '', 'early_stopping_patience': '3', 'early_stopping_tolerance': '0.001', '_enable_profiler': 'false'}\u001b[0m\n",
      "\u001b[34m[04/21/2022 18:42:42 INFO 140680991950656] Merging with provided configuration from /opt/ml/input/config/hyperparameters.json: {'feature_dim': '13', 'mini_batch_size': '100', 'predictor_type': 'binary_classifier'}\u001b[0m\n",
      "\u001b[34m[04/21/2022 18:42:43 INFO 140680991950656] Final configuration: {'mini_batch_size': '100', 'epochs': '15', 'feature_dim': '13', 'use_bias': 'true', 'binary_classifier_model_selection_criteria': 'accuracy', 'f_beta': '1.0', 'target_recall': '0.8', 'target_precision': '0.8', 'num_models': 'auto', 'num_calibration_samples': '10000000', 'init_method': 'uniform', 'init_scale': '0.07', 'init_sigma': '0.01', 'init_bias': '0.0', 'optimizer': 'auto', 'loss': 'auto', 'margin': '1.0', 'quantile': '0.5', 'loss_insensitivity': '0.01', 'huber_delta': '1.0', 'num_classes': '1', 'accuracy_top_k': '3', 'wd': 'auto', 'l1': 'auto', 'momentum': 'auto', 'learning_rate': 'auto', 'beta_1': 'auto', 'beta_2': 'auto', 'bias_lr_mult': 'auto', 'bias_wd_mult': 'auto', 'use_lr_scheduler': 'true', 'lr_scheduler_step': 'auto', 'lr_scheduler_factor': 'auto', 'lr_scheduler_minimum_lr': 'auto', 'positive_example_weight_mult': '1.0', 'balance_multiclass_weights': 'false', 'normalize_data': 'true', 'normalize_label': 'auto', 'unbias_data': 'auto', 'unbias_label': 'auto', 'num_point_for_scaler': '10000', '_kvstore': 'auto', '_num_gpus': 'auto', '_num_kv_servers': 'auto', '_log_level': 'info', '_tuning_objective_metric': '', 'early_stopping_patience': '3', 'early_stopping_tolerance': '0.001', '_enable_profiler': 'false', 'predictor_type': 'binary_classifier'}\u001b[0m\n",
      "\u001b[34m[04/21/2022 18:42:43 WARNING 140680991950656] Loggers have already been setup.\u001b[0m\n",
      "\u001b[34mProcess 1 is a worker.\u001b[0m\n",
      "\u001b[34m[04/21/2022 18:42:43 INFO 140680991950656] Using default worker.\u001b[0m\n",
      "\u001b[34m[04/21/2022 18:42:43 INFO 140680991950656] Checkpoint loading and saving are disabled.\u001b[0m\n",
      "\u001b[34m[2022-04-21 18:42:43.196] [tensorio] [info] epoch_stats={\"data_pipeline\": \"/opt/ml/input/data/train\", \"epoch\": 0, \"duration\": 16, \"num_examples\": 1, \"num_bytes\": 9600}\u001b[0m\n",
      "\u001b[34m[04/21/2022 18:42:43 INFO 140680991950656] Create Store: local\u001b[0m\n",
      "\u001b[34m[2022-04-21 18:42:43.217] [tensorio] [info] epoch_stats={\"data_pipeline\": \"/opt/ml/input/data/train\", \"epoch\": 1, \"duration\": 20, \"num_examples\": 4, \"num_bytes\": 29088}\u001b[0m\n",
      "\u001b[34m[04/21/2022 18:42:43 INFO 140680991950656] Scaler algorithm parameters\n",
      " <algorithm.scaler.ScalerAlgorithmStable object at 0x7ff27798e9d0>\u001b[0m\n",
      "\u001b[34m[04/21/2022 18:42:43 INFO 140680991950656] Scaling model computed with parameters:\n",
      " {'stdev_label': None, 'stdev_weight': \u001b[0m\n",
      "\u001b[34m[ 9.075498    0.46517622  1.0324513  17.581467   51.477055    0.35377333\n",
      "  0.52531475 22.845404    0.4689942   1.1553346   0.6169729   1.0231271\n",
      "  0.6114737 ]\u001b[0m\n",
      "\u001b[34m<NDArray 13 @cpu(0)>, 'mean_label': None, 'mean_weight': \u001b[0m\n",
      "\u001b[34m[5.4303337e+01 6.8333340e-01 9.7333324e-01 1.3159334e+02 2.4686002e+02\n",
      " 1.4666666e-01 5.2666664e-01 1.4970999e+02 3.2666665e-01 1.0346668e+00\n",
      " 1.4033333e+00 7.2333330e-01 2.3099999e+00]\u001b[0m\n",
      "\u001b[34m<NDArray 13 @cpu(0)>}\u001b[0m\n",
      "\u001b[34m[04/21/2022 18:42:43 INFO 140680991950656] nvidia-smi: took 0.031 seconds to run.\u001b[0m\n",
      "\u001b[34m[04/21/2022 18:42:43 INFO 140680991950656] nvidia-smi identified 0 GPUs.\u001b[0m\n",
      "\u001b[34m[04/21/2022 18:42:43 INFO 140680991950656] Number of GPUs being used: 0\u001b[0m\n",
      "\u001b[34m#metrics {\"StartTime\": 1650566563.322479, \"EndTime\": 1650566563.3225274, \"Dimensions\": {\"Algorithm\": \"Linear Learner\", \"Host\": \"algo-1\", \"Operation\": \"training\", \"Meta\": \"init_train_data_iter\"}, \"Metrics\": {\"Total Records Seen\": {\"sum\": 403.0, \"count\": 1, \"min\": 403, \"max\": 403}, \"Total Batches Seen\": {\"sum\": 5.0, \"count\": 1, \"min\": 5, \"max\": 5}, \"Max Records Seen Between Resets\": {\"sum\": 303.0, \"count\": 1, \"min\": 303, \"max\": 303}, \"Max Batches Seen Between Resets\": {\"sum\": 4.0, \"count\": 1, \"min\": 4, \"max\": 4}, \"Reset Count\": {\"sum\": 2.0, \"count\": 1, \"min\": 2, \"max\": 2}, \"Number of Records Since Last Reset\": {\"sum\": 0.0, \"count\": 1, \"min\": 0, \"max\": 0}, \"Number of Batches Since Last Reset\": {\"sum\": 0.0, \"count\": 1, \"min\": 0, \"max\": 0}}}\u001b[0m\n",
      "\u001b[34m[2022-04-21 18:42:43.408] [tensorio] [info] epoch_stats={\"data_pipeline\": \"/opt/ml/input/data/train\", \"epoch\": 4, \"duration\": 85, \"num_examples\": 4, \"num_bytes\": 29088}\u001b[0m\n",
      "\u001b[34m#metrics {\"StartTime\": 1650566563.4089887, \"EndTime\": 1650566563.4090672, \"Dimensions\": {\"Algorithm\": \"Linear Learner\", \"Host\": \"algo-1\", \"Operation\": \"training\", \"epoch\": 0, \"model\": 0}, \"Metrics\": {\"train_binary_classification_cross_entropy_objective\": {\"sum\": 0.6820338185628255, \"count\": 1, \"min\": 0.6820338185628255, \"max\": 0.6820338185628255}}}\u001b[0m\n",
      "\u001b[34m#metrics {\"StartTime\": 1650566563.4091485, \"EndTime\": 1650566563.409165, \"Dimensions\": {\"Algorithm\": \"Linear Learner\", \"Host\": \"algo-1\", \"Operation\": \"training\", \"epoch\": 0, \"model\": 1}, \"Metrics\": {\"train_binary_classification_cross_entropy_objective\": {\"sum\": 0.7087820688883464, \"count\": 1, \"min\": 0.7087820688883464, \"max\": 0.7087820688883464}}}\u001b[0m\n",
      "\u001b[34m#metrics {\"StartTime\": 1650566563.4092054, \"EndTime\": 1650566563.409217, \"Dimensions\": {\"Algorithm\": \"Linear Learner\", \"Host\": \"algo-1\", \"Operation\": \"training\", \"epoch\": 0, \"model\": 2}, \"Metrics\": {\"train_binary_classification_cross_entropy_objective\": {\"sum\": 0.7231084696451823, \"count\": 1, \"min\": 0.7231084696451823, \"max\": 0.7231084696451823}}}\u001b[0m\n",
      "\u001b[34m#metrics {\"StartTime\": 1650566563.4092555, \"EndTime\": 1650566563.4092662, \"Dimensions\": {\"Algorithm\": \"Linear Learner\", \"Host\": \"algo-1\", \"Operation\": \"training\", \"epoch\": 0, \"model\": 3}, \"Metrics\": {\"train_binary_classification_cross_entropy_objective\": {\"sum\": 0.729712905883789, \"count\": 1, \"min\": 0.729712905883789, \"max\": 0.729712905883789}}}\u001b[0m\n",
      "\u001b[34m#metrics {\"StartTime\": 1650566563.409306, \"EndTime\": 1650566563.409316, \"Dimensions\": {\"Algorithm\": \"Linear Learner\", \"Host\": \"algo-1\", \"Operation\": \"training\", \"epoch\": 0, \"model\": 4}, \"Metrics\": {\"train_binary_classification_cross_entropy_objective\": {\"sum\": 0.7906353759765625, \"count\": 1, \"min\": 0.7906353759765625, \"max\": 0.7906353759765625}}}\u001b[0m\n",
      "\u001b[34m#metrics {\"StartTime\": 1650566563.4093544, \"EndTime\": 1650566563.409365, \"Dimensions\": {\"Algorithm\": \"Linear Learner\", \"Host\": \"algo-1\", \"Operation\": \"training\", \"epoch\": 0, \"model\": 5}, \"Metrics\": {\"train_binary_classification_cross_entropy_objective\": {\"sum\": 0.821595687866211, \"count\": 1, \"min\": 0.821595687866211, \"max\": 0.821595687866211}}}\u001b[0m\n",
      "\u001b[34m#metrics {\"StartTime\": 1650566563.409402, \"EndTime\": 1650566563.409412, \"Dimensions\": {\"Algorithm\": \"Linear Learner\", \"Host\": \"algo-1\", \"Operation\": \"training\", \"epoch\": 0, \"model\": 6}, \"Metrics\": {\"train_binary_classification_cross_entropy_objective\": {\"sum\": 0.8550946299235026, \"count\": 1, \"min\": 0.8550946299235026, \"max\": 0.8550946299235026}}}\u001b[0m\n",
      "\u001b[34m#metrics {\"StartTime\": 1650566563.4094567, \"EndTime\": 1650566563.4094648, \"Dimensions\": {\"Algorithm\": \"Linear Learner\", \"Host\": \"algo-1\", \"Operation\": \"training\", \"epoch\": 0, \"model\": 7}, \"Metrics\": {\"train_binary_classification_cross_entropy_objective\": {\"sum\": 0.8366128031412761, \"count\": 1, \"min\": 0.8366128031412761, \"max\": 0.8366128031412761}}}\u001b[0m\n",
      "\u001b[34m#metrics {\"StartTime\": 1650566563.4094956, \"EndTime\": 1650566563.4095035, \"Dimensions\": {\"Algorithm\": \"Linear Learner\", \"Host\": \"algo-1\", \"Operation\": \"training\", \"epoch\": 0, \"model\": 8}, \"Metrics\": {\"train_binary_classification_cross_entropy_objective\": {\"sum\": 0.7519080098470052, \"count\": 1, \"min\": 0.7519080098470052, \"max\": 0.7519080098470052}}}\u001b[0m\n",
      "\u001b[34m#metrics {\"StartTime\": 1650566563.4095328, \"EndTime\": 1650566563.409541, \"Dimensions\": {\"Algorithm\": \"Linear Learner\", \"Host\": \"algo-1\", \"Operation\": \"training\", \"epoch\": 0, \"model\": 9}, \"Metrics\": {\"train_binary_classification_cross_entropy_objective\": {\"sum\": 0.7238820139567057, \"count\": 1, \"min\": 0.7238820139567057, \"max\": 0.7238820139567057}}}\u001b[0m\n",
      "\u001b[34m#metrics {\"StartTime\": 1650566563.4095721, \"EndTime\": 1650566563.40958, \"Dimensions\": {\"Algorithm\": \"Linear Learner\", \"Host\": \"algo-1\", \"Operation\": \"training\", \"epoch\": 0, \"model\": 10}, \"Metrics\": {\"train_binary_classification_cross_entropy_objective\": {\"sum\": 0.7217354838053386, \"count\": 1, \"min\": 0.7217354838053386, \"max\": 0.7217354838053386}}}\u001b[0m\n",
      "\u001b[34m#metrics {\"StartTime\": 1650566563.4096096, \"EndTime\": 1650566563.4096148, \"Dimensions\": {\"Algorithm\": \"Linear Learner\", \"Host\": \"algo-1\", \"Operation\": \"training\", \"epoch\": 0, \"model\": 11}, \"Metrics\": {\"train_binary_classification_cross_entropy_objective\": {\"sum\": 0.7477329254150391, \"count\": 1, \"min\": 0.7477329254150391, \"max\": 0.7477329254150391}}}\u001b[0m\n",
      "\u001b[34m#metrics {\"StartTime\": 1650566563.409645, \"EndTime\": 1650566563.4096534, \"Dimensions\": {\"Algorithm\": \"Linear Learner\", \"Host\": \"algo-1\", \"Operation\": \"training\", \"epoch\": 0, \"model\": 12}, \"Metrics\": {\"train_binary_classification_cross_entropy_objective\": {\"sum\": 0.8210711161295573, \"count\": 1, \"min\": 0.8210711161295573, \"max\": 0.8210711161295573}}}\u001b[0m\n",
      "\u001b[34m#metrics {\"StartTime\": 1650566563.4096856, \"EndTime\": 1650566563.409694, \"Dimensions\": {\"Algorithm\": \"Linear Learner\", \"Host\": \"algo-1\", \"Operation\": \"training\", \"epoch\": 0, \"model\": 13}, \"Metrics\": {\"train_binary_classification_cross_entropy_objective\": {\"sum\": 0.7958912785847981, \"count\": 1, \"min\": 0.7958912785847981, \"max\": 0.7958912785847981}}}\u001b[0m\n",
      "\u001b[34m#metrics {\"StartTime\": 1650566563.4097252, \"EndTime\": 1650566563.4097335, \"Dimensions\": {\"Algorithm\": \"Linear Learner\", \"Host\": \"algo-1\", \"Operation\": \"training\", \"epoch\": 0, \"model\": 14}, \"Metrics\": {\"train_binary_classification_cross_entropy_objective\": {\"sum\": 0.8448188018798828, \"count\": 1, \"min\": 0.8448188018798828, \"max\": 0.8448188018798828}}}\u001b[0m\n",
      "\u001b[34m#metrics {\"StartTime\": 1650566563.409766, \"EndTime\": 1650566563.4097743, \"Dimensions\": {\"Algorithm\": \"Linear Learner\", \"Host\": \"algo-1\", \"Operation\": \"training\", \"epoch\": 0, \"model\": 15}, \"Metrics\": {\"train_binary_classification_cross_entropy_objective\": {\"sum\": 0.8510869344075521, \"count\": 1, \"min\": 0.8510869344075521, \"max\": 0.8510869344075521}}}\u001b[0m\n",
      "\u001b[34m#metrics {\"StartTime\": 1650566563.4098003, \"EndTime\": 1650566563.4098077, \"Dimensions\": {\"Algorithm\": \"Linear Learner\", \"Host\": \"algo-1\", \"Operation\": \"training\", \"epoch\": 0, \"model\": 16}, \"Metrics\": {\"train_binary_classification_cross_entropy_objective\": {\"sum\": 0.7025702158610027, \"count\": 1, \"min\": 0.7025702158610027, \"max\": 0.7025702158610027}}}\u001b[0m\n",
      "\u001b[34m#metrics {\"StartTime\": 1650566563.4098384, \"EndTime\": 1650566563.4098465, \"Dimensions\": {\"Algorithm\": \"Linear Learner\", \"Host\": \"algo-1\", \"Operation\": \"training\", \"epoch\": 0, \"model\": 17}, \"Metrics\": {\"train_binary_classification_cross_entropy_objective\": {\"sum\": 0.7260891977945964, \"count\": 1, \"min\": 0.7260891977945964, \"max\": 0.7260891977945964}}}\u001b[0m\n",
      "\u001b[34m#metrics {\"StartTime\": 1650566563.409877, \"EndTime\": 1650566563.4098861, \"Dimensions\": {\"Algorithm\": \"Linear Learner\", \"Host\": \"algo-1\", \"Operation\": \"training\", \"epoch\": 0, \"model\": 18}, \"Metrics\": {\"train_binary_classification_cross_entropy_objective\": {\"sum\": 0.6606353251139323, \"count\": 1, \"min\": 0.6606353251139323, \"max\": 0.6606353251139323}}}\u001b[0m\n",
      "\u001b[34m#metrics {\"StartTime\": 1650566563.4099169, \"EndTime\": 1650566563.4099255, \"Dimensions\": {\"Algorithm\": \"Linear Learner\", \"Host\": \"algo-1\", \"Operation\": \"training\", \"epoch\": 0, \"model\": 19}, \"Metrics\": {\"train_binary_classification_cross_entropy_objective\": {\"sum\": 0.6775175476074219, \"count\": 1, \"min\": 0.6775175476074219, \"max\": 0.6775175476074219}}}\u001b[0m\n",
      "\u001b[34m#metrics {\"StartTime\": 1650566563.4099503, \"EndTime\": 1650566563.4099567, \"Dimensions\": {\"Algorithm\": \"Linear Learner\", \"Host\": \"algo-1\", \"Operation\": \"training\", \"epoch\": 0, \"model\": 20}, \"Metrics\": {\"train_binary_classification_cross_entropy_objective\": {\"sum\": 0.8269999313354492, \"count\": 1, \"min\": 0.8269999313354492, \"max\": 0.8269999313354492}}}\u001b[0m\n",
      "\u001b[34m#metrics {\"StartTime\": 1650566563.4099872, \"EndTime\": 1650566563.4099956, \"Dimensions\": {\"Algorithm\": \"Linear Learner\", \"Host\": \"algo-1\", \"Operation\": \"training\", \"epoch\": 0, \"model\": 21}, \"Metrics\": {\"train_binary_classification_cross_entropy_objective\": {\"sum\": 0.8333642832438151, \"count\": 1, \"min\": 0.8333642832438151, \"max\": 0.8333642832438151}}}\u001b[0m\n",
      "\u001b[34m#metrics {\"StartTime\": 1650566563.4100277, \"EndTime\": 1650566563.4100368, \"Dimensions\": {\"Algorithm\": \"Linear Learner\", \"Host\": \"algo-1\", \"Operation\": \"training\", \"epoch\": 0, \"model\": 22}, \"Metrics\": {\"train_binary_classification_cross_entropy_objective\": {\"sum\": 0.8382599131266276, \"count\": 1, \"min\": 0.8382599131266276, \"max\": 0.8382599131266276}}}\u001b[0m\n",
      "\u001b[34m#metrics {\"StartTime\": 1650566563.4100616, \"EndTime\": 1650566563.4100668, \"Dimensions\": {\"Algorithm\": \"Linear Learner\", \"Host\": \"algo-1\", \"Operation\": \"training\", \"epoch\": 0, \"model\": 23}, \"Metrics\": {\"train_binary_classification_cross_entropy_objective\": {\"sum\": 0.8845782852172852, \"count\": 1, \"min\": 0.8845782852172852, \"max\": 0.8845782852172852}}}\u001b[0m\n",
      "\u001b[34m#metrics {\"StartTime\": 1650566563.410086, \"EndTime\": 1650566563.4100928, \"Dimensions\": {\"Algorithm\": \"Linear Learner\", \"Host\": \"algo-1\", \"Operation\": \"training\", \"epoch\": 0, \"model\": 24}, \"Metrics\": {\"train_binary_classification_cross_entropy_objective\": {\"sum\": 0.7009534454345703, \"count\": 1, \"min\": 0.7009534454345703, \"max\": 0.7009534454345703}}}\u001b[0m\n",
      "\u001b[34m#metrics {\"StartTime\": 1650566563.4101224, \"EndTime\": 1650566563.4101303, \"Dimensions\": {\"Algorithm\": \"Linear Learner\", \"Host\": \"algo-1\", \"Operation\": \"training\", \"epoch\": 0, \"model\": 25}, \"Metrics\": {\"train_binary_classification_cross_entropy_objective\": {\"sum\": 0.6872855885823568, \"count\": 1, \"min\": 0.6872855885823568, \"max\": 0.6872855885823568}}}\u001b[0m\n",
      "\u001b[34m#metrics {\"StartTime\": 1650566563.4101622, \"EndTime\": 1650566563.4101703, \"Dimensions\": {\"Algorithm\": \"Linear Learner\", \"Host\": \"algo-1\", \"Operation\": \"training\", \"epoch\": 0, \"model\": 26}, \"Metrics\": {\"train_binary_classification_cross_entropy_objective\": {\"sum\": 0.6807373301188151, \"count\": 1, \"min\": 0.6807373301188151, \"max\": 0.6807373301188151}}}\u001b[0m\n",
      "\u001b[34m#metrics {\"StartTime\": 1650566563.4101999, \"EndTime\": 1650566563.4102054, \"Dimensions\": {\"Algorithm\": \"Linear Learner\", \"Host\": \"algo-1\", \"Operation\": \"training\", \"epoch\": 0, \"model\": 27}, \"Metrics\": {\"train_binary_classification_cross_entropy_objective\": {\"sum\": 0.7148330179850261, \"count\": 1, \"min\": 0.7148330179850261, \"max\": 0.7148330179850261}}}\u001b[0m\n",
      "\u001b[34m#metrics {\"StartTime\": 1650566563.410224, \"EndTime\": 1650566563.410231, \"Dimensions\": {\"Algorithm\": \"Linear Learner\", \"Host\": \"algo-1\", \"Operation\": \"training\", \"epoch\": 0, \"model\": 28}, \"Metrics\": {\"train_binary_classification_cross_entropy_objective\": {\"sum\": 1.0029119110107423, \"count\": 1, \"min\": 1.0029119110107423, \"max\": 1.0029119110107423}}}\u001b[0m\n",
      "\u001b[34m#metrics {\"StartTime\": 1650566563.4102612, \"EndTime\": 1650566563.4102693, \"Dimensions\": {\"Algorithm\": \"Linear Learner\", \"Host\": \"algo-1\", \"Operation\": \"training\", \"epoch\": 0, \"model\": 29}, \"Metrics\": {\"train_binary_classification_cross_entropy_objective\": {\"sum\": 1.052272720336914, \"count\": 1, \"min\": 1.052272720336914, \"max\": 1.052272720336914}}}\u001b[0m\n",
      "\u001b[34m#metrics {\"StartTime\": 1650566563.4103005, \"EndTime\": 1650566563.4103088, \"Dimensions\": {\"Algorithm\": \"Linear Learner\", \"Host\": \"algo-1\", \"Operation\": \"training\", \"epoch\": 0, \"model\": 30}, \"Metrics\": {\"train_binary_classification_cross_entropy_objective\": {\"sum\": 1.0667474619547526, \"count\": 1, \"min\": 1.0667474619547526, \"max\": 1.0667474619547526}}}\u001b[0m\n",
      "\u001b[34m#metrics {\"StartTime\": 1650566563.41034, \"EndTime\": 1650566563.4103458, \"Dimensions\": {\"Algorithm\": \"Linear Learner\", \"Host\": \"algo-1\", \"Operation\": \"training\", \"epoch\": 0, \"model\": 31}, \"Metrics\": {\"train_binary_classification_cross_entropy_objective\": {\"sum\": 1.0508136749267578, \"count\": 1, \"min\": 1.0508136749267578, \"max\": 1.0508136749267578}}}\u001b[0m\n",
      "\u001b[34m[04/21/2022 18:42:43 INFO 140680991950656] #quality_metric: host=algo-1, epoch=0, train binary_classification_cross_entropy_objective <loss>=0.6820338185628255\u001b[0m\n",
      "\u001b[34m[04/21/2022 18:42:43 INFO 140680991950656] #early_stopping_criteria_metric: host=algo-1, epoch=0, criteria=binary_classification_cross_entropy_objective, value=0.6606353251139323\u001b[0m\n",
      "\u001b[34m[04/21/2022 18:42:43 INFO 140680991950656] Epoch 0: Loss improved. Updating best model\u001b[0m\n",
      "\u001b[34m[04/21/2022 18:42:43 INFO 140680991950656] Saving model for epoch: 0\u001b[0m\n",
      "\u001b[34m[04/21/2022 18:42:43 INFO 140680991950656] Saved checkpoint to \"/tmp/tmpy4ghdwt5/mx-mod-0000.params\"\u001b[0m\n",
      "\u001b[34m[04/21/2022 18:42:43 INFO 140680991950656] #progress_metric: host=algo-1, completed 6.666666666666667 % of epochs\u001b[0m\n",
      "\u001b[34m#metrics {\"StartTime\": 1650566563.3228483, \"EndTime\": 1650566563.4192467, \"Dimensions\": {\"Algorithm\": \"Linear Learner\", \"Host\": \"algo-1\", \"Operation\": \"training\", \"epoch\": 0, \"Meta\": \"training_data_iter\"}, \"Metrics\": {\"Total Records Seen\": {\"sum\": 706.0, \"count\": 1, \"min\": 706, \"max\": 706}, \"Total Batches Seen\": {\"sum\": 9.0, \"count\": 1, \"min\": 9, \"max\": 9}, \"Max Records Seen Between Resets\": {\"sum\": 303.0, \"count\": 1, \"min\": 303, \"max\": 303}, \"Max Batches Seen Between Resets\": {\"sum\": 4.0, \"count\": 1, \"min\": 4, \"max\": 4}, \"Reset Count\": {\"sum\": 3.0, \"count\": 1, \"min\": 3, \"max\": 3}, \"Number of Records Since Last Reset\": {\"sum\": 303.0, \"count\": 1, \"min\": 303, \"max\": 303}, \"Number of Batches Since Last Reset\": {\"sum\": 4.0, \"count\": 1, \"min\": 4, \"max\": 4}}}\u001b[0m\n",
      "\u001b[34m[04/21/2022 18:42:43 INFO 140680991950656] #throughput_metric: host=algo-1, train throughput=3139.984315818342 records/second\u001b[0m\n",
      "\u001b[34m[2022-04-21 18:42:43.499] [tensorio] [info] epoch_stats={\"data_pipeline\": \"/opt/ml/input/data/train\", \"epoch\": 6, \"duration\": 79, \"num_examples\": 4, \"num_bytes\": 29088}\u001b[0m\n",
      "\u001b[34m#metrics {\"StartTime\": 1650566563.4995012, \"EndTime\": 1650566563.4995818, \"Dimensions\": {\"Algorithm\": \"Linear Learner\", \"Host\": \"algo-1\", \"Operation\": \"training\", \"epoch\": 1, \"model\": 0}, \"Metrics\": {\"train_binary_classification_cross_entropy_objective\": {\"sum\": 0.6454745610555013, \"count\": 1, \"min\": 0.6454745610555013, \"max\": 0.6454745610555013}}}\u001b[0m\n",
      "\u001b[34m#metrics {\"StartTime\": 1650566563.4996703, \"EndTime\": 1650566563.4996848, \"Dimensions\": {\"Algorithm\": \"Linear Learner\", \"Host\": \"algo-1\", \"Operation\": \"training\", \"epoch\": 1, \"model\": 1}, \"Metrics\": {\"train_binary_classification_cross_entropy_objective\": {\"sum\": 0.6710426076253255, \"count\": 1, \"min\": 0.6710426076253255, \"max\": 0.6710426076253255}}}\u001b[0m\n",
      "\u001b[34m#metrics {\"StartTime\": 1650566563.4997256, \"EndTime\": 1650566563.499734, \"Dimensions\": {\"Algorithm\": \"Linear Learner\", \"Host\": \"algo-1\", \"Operation\": \"training\", \"epoch\": 1, \"model\": 2}, \"Metrics\": {\"train_binary_classification_cross_entropy_objective\": {\"sum\": 0.6837513732910157, \"count\": 1, \"min\": 0.6837513732910157, \"max\": 0.6837513732910157}}}\u001b[0m\n",
      "\u001b[34m#metrics {\"StartTime\": 1650566563.4997647, \"EndTime\": 1650566563.4997728, \"Dimensions\": {\"Algorithm\": \"Linear Learner\", \"Host\": \"algo-1\", \"Operation\": \"training\", \"epoch\": 1, \"model\": 3}, \"Metrics\": {\"train_binary_classification_cross_entropy_objective\": {\"sum\": 0.6909143575032552, \"count\": 1, \"min\": 0.6909143575032552, \"max\": 0.6909143575032552}}}\u001b[0m\n",
      "\u001b[34m#metrics {\"StartTime\": 1650566563.4998016, \"EndTime\": 1650566563.4998088, \"Dimensions\": {\"Algorithm\": \"Linear Learner\", \"Host\": \"algo-1\", \"Operation\": \"training\", \"epoch\": 1, \"model\": 4}, \"Metrics\": {\"train_binary_classification_cross_entropy_objective\": {\"sum\": 0.41107385635375976, \"count\": 1, \"min\": 0.41107385635375976, \"max\": 0.41107385635375976}}}\u001b[0m\n",
      "\u001b[34m#metrics {\"StartTime\": 1650566563.4998367, \"EndTime\": 1650566563.4998417, \"Dimensions\": {\"Algorithm\": \"Linear Learner\", \"Host\": \"algo-1\", \"Operation\": \"training\", \"epoch\": 1, \"model\": 5}, \"Metrics\": {\"train_binary_classification_cross_entropy_objective\": {\"sum\": 0.41103115399678547, \"count\": 1, \"min\": 0.41103115399678547, \"max\": 0.41103115399678547}}}\u001b[0m\n",
      "\u001b[34m#metrics {\"StartTime\": 1650566563.49986, \"EndTime\": 1650566563.4998643, \"Dimensions\": {\"Algorithm\": \"Linear Learner\", \"Host\": \"algo-1\", \"Operation\": \"training\", \"epoch\": 1, \"model\": 6}, \"Metrics\": {\"train_binary_classification_cross_entropy_objective\": {\"sum\": 0.42237996419270835, \"count\": 1, \"min\": 0.42237996419270835, \"max\": 0.42237996419270835}}}\u001b[0m\n",
      "\u001b[34m#metrics {\"StartTime\": 1650566563.4998875, \"EndTime\": 1650566563.499893, \"Dimensions\": {\"Algorithm\": \"Linear Learner\", \"Host\": \"algo-1\", \"Operation\": \"training\", \"epoch\": 1, \"model\": 7}, \"Metrics\": {\"train_binary_classification_cross_entropy_objective\": {\"sum\": 0.4142917760213216, \"count\": 1, \"min\": 0.4142917760213216, \"max\": 0.4142917760213216}}}\u001b[0m\n",
      "\u001b[34m#metrics {\"StartTime\": 1650566563.499925, \"EndTime\": 1650566563.4999316, \"Dimensions\": {\"Algorithm\": \"Linear Learner\", \"Host\": \"algo-1\", \"Operation\": \"training\", \"epoch\": 1, \"model\": 8}, \"Metrics\": {\"train_binary_classification_cross_entropy_objective\": {\"sum\": 0.7115947977701823, \"count\": 1, \"min\": 0.7115947977701823, \"max\": 0.7115947977701823}}}\u001b[0m\n",
      "\u001b[34m#metrics {\"StartTime\": 1650566563.4999745, \"EndTime\": 1650566563.4999824, \"Dimensions\": {\"Algorithm\": \"Linear Learner\", \"Host\": \"algo-1\", \"Operation\": \"training\", \"epoch\": 1, \"model\": 9}, \"Metrics\": {\"train_binary_classification_cross_entropy_objective\": {\"sum\": 0.6850591023763021, \"count\": 1, \"min\": 0.6850591023763021, \"max\": 0.6850591023763021}}}\u001b[0m\n",
      "\u001b[34m#metrics {\"StartTime\": 1650566563.5000112, \"EndTime\": 1650566563.5000193, \"Dimensions\": {\"Algorithm\": \"Linear Learner\", \"Host\": \"algo-1\", \"Operation\": \"training\", \"epoch\": 1, \"model\": 10}, \"Metrics\": {\"train_binary_classification_cross_entropy_objective\": {\"sum\": 0.6834462483723959, \"count\": 1, \"min\": 0.6834462483723959, \"max\": 0.6834462483723959}}}\u001b[0m\n",
      "\u001b[34m#metrics {\"StartTime\": 1650566563.5000505, \"EndTime\": 1650566563.5000582, \"Dimensions\": {\"Algorithm\": \"Linear Learner\", \"Host\": \"algo-1\", \"Operation\": \"training\", \"epoch\": 1, \"model\": 11}, \"Metrics\": {\"train_binary_classification_cross_entropy_objective\": {\"sum\": 0.7076218668619791, \"count\": 1, \"min\": 0.7076218668619791, \"max\": 0.7076218668619791}}}\u001b[0m\n",
      "\u001b[34m#metrics {\"StartTime\": 1650566563.500088, \"EndTime\": 1650566563.500096, \"Dimensions\": {\"Algorithm\": \"Linear Learner\", \"Host\": \"algo-1\", \"Operation\": \"training\", \"epoch\": 1, \"model\": 12}, \"Metrics\": {\"train_binary_classification_cross_entropy_objective\": {\"sum\": 0.42089056650797524, \"count\": 1, \"min\": 0.42089056650797524, \"max\": 0.42089056650797524}}}\u001b[0m\n",
      "\u001b[34m#metrics {\"StartTime\": 1650566563.5001254, \"EndTime\": 1650566563.500133, \"Dimensions\": {\"Algorithm\": \"Linear Learner\", \"Host\": \"algo-1\", \"Operation\": \"training\", \"epoch\": 1, \"model\": 13}, \"Metrics\": {\"train_binary_classification_cross_entropy_objective\": {\"sum\": 0.4125681749979655, \"count\": 1, \"min\": 0.4125681749979655, \"max\": 0.4125681749979655}}}\u001b[0m\n",
      "\u001b[34m#metrics {\"StartTime\": 1650566563.5001616, \"EndTime\": 1650566563.50017, \"Dimensions\": {\"Algorithm\": \"Linear Learner\", \"Host\": \"algo-1\", \"Operation\": \"training\", \"epoch\": 1, \"model\": 14}, \"Metrics\": {\"train_binary_classification_cross_entropy_objective\": {\"sum\": 0.42305606524149575, \"count\": 1, \"min\": 0.42305606524149575, \"max\": 0.42305606524149575}}}\u001b[0m\n",
      "\u001b[34m#metrics {\"StartTime\": 1650566563.5001986, \"EndTime\": 1650566563.5002062, \"Dimensions\": {\"Algorithm\": \"Linear Learner\", \"Host\": \"algo-1\", \"Operation\": \"training\", \"epoch\": 1, \"model\": 15}, \"Metrics\": {\"train_binary_classification_cross_entropy_objective\": {\"sum\": 0.4170186996459961, \"count\": 1, \"min\": 0.4170186996459961, \"max\": 0.4170186996459961}}}\u001b[0m\n",
      "\u001b[34m#metrics {\"StartTime\": 1650566563.5002341, \"EndTime\": 1650566563.5002418, \"Dimensions\": {\"Algorithm\": \"Linear Learner\", \"Host\": \"algo-1\", \"Operation\": \"training\", \"epoch\": 1, \"model\": 16}, \"Metrics\": {\"train_binary_classification_cross_entropy_objective\": {\"sum\": 0.6663058344523112, \"count\": 1, \"min\": 0.6663058344523112, \"max\": 0.6663058344523112}}}\u001b[0m\n",
      "\u001b[34m#metrics {\"StartTime\": 1650566563.5002701, \"EndTime\": 1650566563.5002775, \"Dimensions\": {\"Algorithm\": \"Linear Learner\", \"Host\": \"algo-1\", \"Operation\": \"training\", \"epoch\": 1, \"model\": 17}, \"Metrics\": {\"train_binary_classification_cross_entropy_objective\": {\"sum\": 0.6871729787190756, \"count\": 1, \"min\": 0.6871729787190756, \"max\": 0.6871729787190756}}}\u001b[0m\n",
      "\u001b[34m#metrics {\"StartTime\": 1650566563.5003104, \"EndTime\": 1650566563.5003173, \"Dimensions\": {\"Algorithm\": \"Linear Learner\", \"Host\": \"algo-1\", \"Operation\": \"training\", \"epoch\": 1, \"model\": 18}, \"Metrics\": {\"train_binary_classification_cross_entropy_objective\": {\"sum\": 0.6276085789998372, \"count\": 1, \"min\": 0.6276085789998372, \"max\": 0.6276085789998372}}}\u001b[0m\n",
      "\u001b[34m#metrics {\"StartTime\": 1650566563.500344, \"EndTime\": 1650566563.5003507, \"Dimensions\": {\"Algorithm\": \"Linear Learner\", \"Host\": \"algo-1\", \"Operation\": \"training\", \"epoch\": 1, \"model\": 19}, \"Metrics\": {\"train_binary_classification_cross_entropy_objective\": {\"sum\": 0.6440021769205729, \"count\": 1, \"min\": 0.6440021769205729, \"max\": 0.6440021769205729}}}\u001b[0m\n",
      "\u001b[34m#metrics {\"StartTime\": 1650566563.500378, \"EndTime\": 1650566563.5003858, \"Dimensions\": {\"Algorithm\": \"Linear Learner\", \"Host\": \"algo-1\", \"Operation\": \"training\", \"epoch\": 1, \"model\": 20}, \"Metrics\": {\"train_binary_classification_cross_entropy_objective\": {\"sum\": 0.5024373086293539, \"count\": 1, \"min\": 0.5024373086293539, \"max\": 0.5024373086293539}}}\u001b[0m\n",
      "\u001b[34m#metrics {\"StartTime\": 1650566563.500422, \"EndTime\": 1650566563.5004292, \"Dimensions\": {\"Algorithm\": \"Linear Learner\", \"Host\": \"algo-1\", \"Operation\": \"training\", \"epoch\": 1, \"model\": 21}, \"Metrics\": {\"train_binary_classification_cross_entropy_objective\": {\"sum\": 0.5049194018046061, \"count\": 1, \"min\": 0.5049194018046061, \"max\": 0.5049194018046061}}}\u001b[0m\n",
      "\u001b[34m#metrics {\"StartTime\": 1650566563.500463, \"EndTime\": 1650566563.5004718, \"Dimensions\": {\"Algorithm\": \"Linear Learner\", \"Host\": \"algo-1\", \"Operation\": \"training\", \"epoch\": 1, \"model\": 22}, \"Metrics\": {\"train_binary_classification_cross_entropy_objective\": {\"sum\": 0.4966909758249919, \"count\": 1, \"min\": 0.4966909758249919, \"max\": 0.4966909758249919}}}\u001b[0m\n",
      "\u001b[34m#metrics {\"StartTime\": 1650566563.5005057, \"EndTime\": 1650566563.5005143, \"Dimensions\": {\"Algorithm\": \"Linear Learner\", \"Host\": \"algo-1\", \"Operation\": \"training\", \"epoch\": 1, \"model\": 23}, \"Metrics\": {\"train_binary_classification_cross_entropy_objective\": {\"sum\": 0.4803572654724121, \"count\": 1, \"min\": 0.4803572654724121, \"max\": 0.4803572654724121}}}\u001b[0m\n",
      "\u001b[34m#metrics {\"StartTime\": 1650566563.5005465, \"EndTime\": 1650566563.5005546, \"Dimensions\": {\"Algorithm\": \"Linear Learner\", \"Host\": \"algo-1\", \"Operation\": \"training\", \"epoch\": 1, \"model\": 24}, \"Metrics\": {\"train_binary_classification_cross_entropy_objective\": {\"sum\": 0.6939025624593099, \"count\": 1, \"min\": 0.6939025624593099, \"max\": 0.6939025624593099}}}\u001b[0m\n",
      "\u001b[34m#metrics {\"StartTime\": 1650566563.5005856, \"EndTime\": 1650566563.5005925, \"Dimensions\": {\"Algorithm\": \"Linear Learner\", \"Host\": \"algo-1\", \"Operation\": \"training\", \"epoch\": 1, \"model\": 25}, \"Metrics\": {\"train_binary_classification_cross_entropy_objective\": {\"sum\": 0.686641362508138, \"count\": 1, \"min\": 0.686641362508138, \"max\": 0.686641362508138}}}\u001b[0m\n",
      "\u001b[34m#metrics {\"StartTime\": 1650566563.5006206, \"EndTime\": 1650566563.5006273, \"Dimensions\": {\"Algorithm\": \"Linear Learner\", \"Host\": \"algo-1\", \"Operation\": \"training\", \"epoch\": 1, \"model\": 26}, \"Metrics\": {\"train_binary_classification_cross_entropy_objective\": {\"sum\": 0.6766444142659506, \"count\": 1, \"min\": 0.6766444142659506, \"max\": 0.6766444142659506}}}\u001b[0m\n",
      "\u001b[34m#metrics {\"StartTime\": 1650566563.5006547, \"EndTime\": 1650566563.5006623, \"Dimensions\": {\"Algorithm\": \"Linear Learner\", \"Host\": \"algo-1\", \"Operation\": \"training\", \"epoch\": 1, \"model\": 27}, \"Metrics\": {\"train_binary_classification_cross_entropy_objective\": {\"sum\": 0.6997818501790365, \"count\": 1, \"min\": 0.6997818501790365, \"max\": 0.6997818501790365}}}\u001b[0m\n",
      "\u001b[34m#metrics {\"StartTime\": 1650566563.5006914, \"EndTime\": 1650566563.5006983, \"Dimensions\": {\"Algorithm\": \"Linear Learner\", \"Host\": \"algo-1\", \"Operation\": \"training\", \"epoch\": 1, \"model\": 28}, \"Metrics\": {\"train_binary_classification_cross_entropy_objective\": {\"sum\": 0.7810559399922689, \"count\": 1, \"min\": 0.7810559399922689, \"max\": 0.7810559399922689}}}\u001b[0m\n",
      "\u001b[34m#metrics {\"StartTime\": 1650566563.5007265, \"EndTime\": 1650566563.5007336, \"Dimensions\": {\"Algorithm\": \"Linear Learner\", \"Host\": \"algo-1\", \"Operation\": \"training\", \"epoch\": 1, \"model\": 29}, \"Metrics\": {\"train_binary_classification_cross_entropy_objective\": {\"sum\": 0.7033942604064941, \"count\": 1, \"min\": 0.7033942604064941, \"max\": 0.7033942604064941}}}\u001b[0m\n",
      "\u001b[34m#metrics {\"StartTime\": 1650566563.5007622, \"EndTime\": 1650566563.5007694, \"Dimensions\": {\"Algorithm\": \"Linear Learner\", \"Host\": \"algo-1\", \"Operation\": \"training\", \"epoch\": 1, \"model\": 30}, \"Metrics\": {\"train_binary_classification_cross_entropy_objective\": {\"sum\": 0.6991264343261718, \"count\": 1, \"min\": 0.6991264343261718, \"max\": 0.6991264343261718}}}\u001b[0m\n",
      "\u001b[34m#metrics {\"StartTime\": 1650566563.500799, \"EndTime\": 1650566563.500808, \"Dimensions\": {\"Algorithm\": \"Linear Learner\", \"Host\": \"algo-1\", \"Operation\": \"training\", \"epoch\": 1, \"model\": 31}, \"Metrics\": {\"train_binary_classification_cross_entropy_objective\": {\"sum\": 0.7088962173461915, \"count\": 1, \"min\": 0.7088962173461915, \"max\": 0.7088962173461915}}}\u001b[0m\n",
      "\u001b[34m[04/21/2022 18:42:43 INFO 140680991950656] #quality_metric: host=algo-1, epoch=1, train binary_classification_cross_entropy_objective <loss>=0.6454745610555013\u001b[0m\n",
      "\u001b[34m[04/21/2022 18:42:43 INFO 140680991950656] #early_stopping_criteria_metric: host=algo-1, epoch=1, criteria=binary_classification_cross_entropy_objective, value=0.41103115399678547\u001b[0m\n",
      "\u001b[34m[04/21/2022 18:42:43 INFO 140680991950656] Epoch 1: Loss improved. Updating best model\u001b[0m\n",
      "\u001b[34m[04/21/2022 18:42:43 INFO 140680991950656] Saving model for epoch: 1\u001b[0m\n",
      "\u001b[34m[04/21/2022 18:42:43 INFO 140680991950656] Saved checkpoint to \"/tmp/tmp46lpva5m/mx-mod-0000.params\"\u001b[0m\n",
      "\u001b[34m[04/21/2022 18:42:43 INFO 140680991950656] #progress_metric: host=algo-1, completed 13.333333333333334 % of epochs\u001b[0m\n",
      "\u001b[34m#metrics {\"StartTime\": 1650566563.4194567, \"EndTime\": 1650566563.5091395, \"Dimensions\": {\"Algorithm\": \"Linear Learner\", \"Host\": \"algo-1\", \"Operation\": \"training\", \"epoch\": 1, \"Meta\": \"training_data_iter\"}, \"Metrics\": {\"Total Records Seen\": {\"sum\": 1009.0, \"count\": 1, \"min\": 1009, \"max\": 1009}, \"Total Batches Seen\": {\"sum\": 13.0, \"count\": 1, \"min\": 13, \"max\": 13}, \"Max Records Seen Between Resets\": {\"sum\": 303.0, \"count\": 1, \"min\": 303, \"max\": 303}, \"Max Batches Seen Between Resets\": {\"sum\": 4.0, \"count\": 1, \"min\": 4, \"max\": 4}, \"Reset Count\": {\"sum\": 4.0, \"count\": 1, \"min\": 4, \"max\": 4}, \"Number of Records Since Last Reset\": {\"sum\": 303.0, \"count\": 1, \"min\": 303, \"max\": 303}, \"Number of Batches Since Last Reset\": {\"sum\": 4.0, \"count\": 1, \"min\": 4, \"max\": 4}}}\u001b[0m\n",
      "\u001b[34m[04/21/2022 18:42:43 INFO 140680991950656] #throughput_metric: host=algo-1, train throughput=3374.6979120473516 records/second\u001b[0m\n",
      "\u001b[34m[2022-04-21 18:42:43.583] [tensorio] [info] epoch_stats={\"data_pipeline\": \"/opt/ml/input/data/train\", \"epoch\": 8, \"duration\": 73, \"num_examples\": 4, \"num_bytes\": 29088}\u001b[0m\n",
      "\u001b[34m#metrics {\"StartTime\": 1650566563.5837908, \"EndTime\": 1650566563.583862, \"Dimensions\": {\"Algorithm\": \"Linear Learner\", \"Host\": \"algo-1\", \"Operation\": \"training\", \"epoch\": 2, \"model\": 0}, \"Metrics\": {\"train_binary_classification_cross_entropy_objective\": {\"sum\": 0.6198531595865885, \"count\": 1, \"min\": 0.6198531595865885, \"max\": 0.6198531595865885}}}\u001b[0m\n",
      "\u001b[34m#metrics {\"StartTime\": 1650566563.583941, \"EndTime\": 1650566563.5839784, \"Dimensions\": {\"Algorithm\": \"Linear Learner\", \"Host\": \"algo-1\", \"Operation\": \"training\", \"epoch\": 2, \"model\": 1}, \"Metrics\": {\"train_binary_classification_cross_entropy_objective\": {\"sum\": 0.6444604873657227, \"count\": 1, \"min\": 0.6444604873657227, \"max\": 0.6444604873657227}}}\u001b[0m\n",
      "\u001b[34m#metrics {\"StartTime\": 1650566563.5840287, \"EndTime\": 1650566563.584039, \"Dimensions\": {\"Algorithm\": \"Linear Learner\", \"Host\": \"algo-1\", \"Operation\": \"training\", \"epoch\": 2, \"model\": 2}, \"Metrics\": {\"train_binary_classification_cross_entropy_objective\": {\"sum\": 0.6557074991861979, \"count\": 1, \"min\": 0.6557074991861979, \"max\": 0.6557074991861979}}}\u001b[0m\n",
      "\u001b[34m#metrics {\"StartTime\": 1650566563.5840755, \"EndTime\": 1650566563.5841076, \"Dimensions\": {\"Algorithm\": \"Linear Learner\", \"Host\": \"algo-1\", \"Operation\": \"training\", \"epoch\": 2, \"model\": 3}, \"Metrics\": {\"train_binary_classification_cross_entropy_objective\": {\"sum\": 0.6634943389892578, \"count\": 1, \"min\": 0.6634943389892578, \"max\": 0.6634943389892578}}}\u001b[0m\n",
      "\u001b[34m#metrics {\"StartTime\": 1650566563.5841427, \"EndTime\": 1650566563.584151, \"Dimensions\": {\"Algorithm\": \"Linear Learner\", \"Host\": \"algo-1\", \"Operation\": \"training\", \"epoch\": 2, \"model\": 4}, \"Metrics\": {\"train_binary_classification_cross_entropy_objective\": {\"sum\": 0.34922098795572915, \"count\": 1, \"min\": 0.34922098795572915, \"max\": 0.34922098795572915}}}\u001b[0m\n",
      "\u001b[34m#metrics {\"StartTime\": 1650566563.5841956, \"EndTime\": 1650566563.584204, \"Dimensions\": {\"Algorithm\": \"Linear Learner\", \"Host\": \"algo-1\", \"Operation\": \"training\", \"epoch\": 2, \"model\": 5}, \"Metrics\": {\"train_binary_classification_cross_entropy_objective\": {\"sum\": 0.34612613677978515, \"count\": 1, \"min\": 0.34612613677978515, \"max\": 0.34612613677978515}}}\u001b[0m\n",
      "\u001b[34m#metrics {\"StartTime\": 1650566563.5842345, \"EndTime\": 1650566563.5842547, \"Dimensions\": {\"Algorithm\": \"Linear Learner\", \"Host\": \"algo-1\", \"Operation\": \"training\", \"epoch\": 2, \"model\": 6}, \"Metrics\": {\"train_binary_classification_cross_entropy_objective\": {\"sum\": 0.35093828837076824, \"count\": 1, \"min\": 0.35093828837076824, \"max\": 0.35093828837076824}}}\u001b[0m\n",
      "\u001b[34m#metrics {\"StartTime\": 1650566563.5843008, \"EndTime\": 1650566563.5843096, \"Dimensions\": {\"Algorithm\": \"Linear Learner\", \"Host\": \"algo-1\", \"Operation\": \"training\", \"epoch\": 2, \"model\": 7}, \"Metrics\": {\"train_binary_classification_cross_entropy_objective\": {\"sum\": 0.3472985076904297, \"count\": 1, \"min\": 0.3472985076904297, \"max\": 0.3472985076904297}}}\u001b[0m\n",
      "\u001b[34m#metrics {\"StartTime\": 1650566563.5843463, \"EndTime\": 1650566563.5843544, \"Dimensions\": {\"Algorithm\": \"Linear Learner\", \"Host\": \"algo-1\", \"Operation\": \"training\", \"epoch\": 2, \"model\": 8}, \"Metrics\": {\"train_binary_classification_cross_entropy_objective\": {\"sum\": 0.6827983474731445, \"count\": 1, \"min\": 0.6827983474731445, \"max\": 0.6827983474731445}}}\u001b[0m\n",
      "\u001b[34m#metrics {\"StartTime\": 1650566563.5844176, \"EndTime\": 1650566563.5844266, \"Dimensions\": {\"Algorithm\": \"Linear Learner\", \"Host\": \"algo-1\", \"Operation\": \"training\", \"epoch\": 2, \"model\": 9}, \"Metrics\": {\"train_binary_classification_cross_entropy_objective\": {\"sum\": 0.6574892934163411, \"count\": 1, \"min\": 0.6574892934163411, \"max\": 0.6574892934163411}}}\u001b[0m\n",
      "\u001b[34m#metrics {\"StartTime\": 1650566563.584471, \"EndTime\": 1650566563.5844805, \"Dimensions\": {\"Algorithm\": \"Linear Learner\", \"Host\": \"algo-1\", \"Operation\": \"training\", \"epoch\": 2, \"model\": 10}, \"Metrics\": {\"train_binary_classification_cross_entropy_objective\": {\"sum\": 0.6564547220865885, \"count\": 1, \"min\": 0.6564547220865885, \"max\": 0.6564547220865885}}}\u001b[0m\n",
      "\u001b[34m#metrics {\"StartTime\": 1650566563.5845098, \"EndTime\": 1650566563.5845168, \"Dimensions\": {\"Algorithm\": \"Linear Learner\", \"Host\": \"algo-1\", \"Operation\": \"training\", \"epoch\": 2, \"model\": 11}, \"Metrics\": {\"train_binary_classification_cross_entropy_objective\": {\"sum\": 0.6789791361490886, \"count\": 1, \"min\": 0.6789791361490886, \"max\": 0.6789791361490886}}}\u001b[0m\n",
      "\u001b[34m#metrics {\"StartTime\": 1650566563.5845613, \"EndTime\": 1650566563.5845792, \"Dimensions\": {\"Algorithm\": \"Linear Learner\", \"Host\": \"algo-1\", \"Operation\": \"training\", \"epoch\": 2, \"model\": 12}, \"Metrics\": {\"train_binary_classification_cross_entropy_objective\": {\"sum\": 0.34893913904825846, \"count\": 1, \"min\": 0.34893913904825846, \"max\": 0.34893913904825846}}}\u001b[0m\n",
      "\u001b[34m#metrics {\"StartTime\": 1650566563.5846329, \"EndTime\": 1650566563.584642, \"Dimensions\": {\"Algorithm\": \"Linear Learner\", \"Host\": \"algo-1\", \"Operation\": \"training\", \"epoch\": 2, \"model\": 13}, \"Metrics\": {\"train_binary_classification_cross_entropy_objective\": {\"sum\": 0.34828932444254557, \"count\": 1, \"min\": 0.34828932444254557, \"max\": 0.34828932444254557}}}\u001b[0m\n",
      "\u001b[34m#metrics {\"StartTime\": 1650566563.5846722, \"EndTime\": 1650566563.5847, \"Dimensions\": {\"Algorithm\": \"Linear Learner\", \"Host\": \"algo-1\", \"Operation\": \"training\", \"epoch\": 2, \"model\": 14}, \"Metrics\": {\"train_binary_classification_cross_entropy_objective\": {\"sum\": 0.3504569625854492, \"count\": 1, \"min\": 0.3504569625854492, \"max\": 0.3504569625854492}}}\u001b[0m\n",
      "\u001b[34m#metrics {\"StartTime\": 1650566563.5847304, \"EndTime\": 1650566563.584738, \"Dimensions\": {\"Algorithm\": \"Linear Learner\", \"Host\": \"algo-1\", \"Operation\": \"training\", \"epoch\": 2, \"model\": 15}, \"Metrics\": {\"train_binary_classification_cross_entropy_objective\": {\"sum\": 0.3487235895792643, \"count\": 1, \"min\": 0.3487235895792643, \"max\": 0.3487235895792643}}}\u001b[0m\n",
      "\u001b[34m#metrics {\"StartTime\": 1650566563.5847814, \"EndTime\": 1650566563.5847902, \"Dimensions\": {\"Algorithm\": \"Linear Learner\", \"Host\": \"algo-1\", \"Operation\": \"training\", \"epoch\": 2, \"model\": 16}, \"Metrics\": {\"train_binary_classification_cross_entropy_objective\": {\"sum\": 0.641370735168457, \"count\": 1, \"min\": 0.641370735168457, \"max\": 0.641370735168457}}}\u001b[0m\n",
      "\u001b[34m#metrics {\"StartTime\": 1650566563.5848205, \"EndTime\": 1650566563.5848281, \"Dimensions\": {\"Algorithm\": \"Linear Learner\", \"Host\": \"algo-1\", \"Operation\": \"training\", \"epoch\": 2, \"model\": 17}, \"Metrics\": {\"train_binary_classification_cross_entropy_objective\": {\"sum\": 0.6598385620117188, \"count\": 1, \"min\": 0.6598385620117188, \"max\": 0.6598385620117188}}}\u001b[0m\n",
      "\u001b[34m#metrics {\"StartTime\": 1650566563.5848734, \"EndTime\": 1650566563.5848835, \"Dimensions\": {\"Algorithm\": \"Linear Learner\", \"Host\": \"algo-1\", \"Operation\": \"training\", \"epoch\": 2, \"model\": 18}, \"Metrics\": {\"train_binary_classification_cross_entropy_objective\": {\"sum\": 0.605404904683431, \"count\": 1, \"min\": 0.605404904683431, \"max\": 0.605404904683431}}}\u001b[0m\n",
      "\u001b[34m#metrics {\"StartTime\": 1650566563.5849223, \"EndTime\": 1650566563.5849526, \"Dimensions\": {\"Algorithm\": \"Linear Learner\", \"Host\": \"algo-1\", \"Operation\": \"training\", \"epoch\": 2, \"model\": 19}, \"Metrics\": {\"train_binary_classification_cross_entropy_objective\": {\"sum\": 0.621473897298177, \"count\": 1, \"min\": 0.621473897298177, \"max\": 0.621473897298177}}}\u001b[0m\n",
      "\u001b[34m#metrics {\"StartTime\": 1650566563.5849876, \"EndTime\": 1650566563.584997, \"Dimensions\": {\"Algorithm\": \"Linear Learner\", \"Host\": \"algo-1\", \"Operation\": \"training\", \"epoch\": 2, \"model\": 20}, \"Metrics\": {\"train_binary_classification_cross_entropy_objective\": {\"sum\": 0.4961762873331706, \"count\": 1, \"min\": 0.4961762873331706, \"max\": 0.4961762873331706}}}\u001b[0m\n",
      "\u001b[34m#metrics {\"StartTime\": 1650566563.585057, \"EndTime\": 1650566563.5850677, \"Dimensions\": {\"Algorithm\": \"Linear Learner\", \"Host\": \"algo-1\", \"Operation\": \"training\", \"epoch\": 2, \"model\": 21}, \"Metrics\": {\"train_binary_classification_cross_entropy_objective\": {\"sum\": 0.4872246170043945, \"count\": 1, \"min\": 0.4872246170043945, \"max\": 0.4872246170043945}}}\u001b[0m\n",
      "\u001b[34m#metrics {\"StartTime\": 1650566563.5851035, \"EndTime\": 1650566563.5851114, \"Dimensions\": {\"Algorithm\": \"Linear Learner\", \"Host\": \"algo-1\", \"Operation\": \"training\", \"epoch\": 2, \"model\": 22}, \"Metrics\": {\"train_binary_classification_cross_entropy_objective\": {\"sum\": 0.48439704259236654, \"count\": 1, \"min\": 0.48439704259236654, \"max\": 0.48439704259236654}}}\u001b[0m\n",
      "\u001b[34m#metrics {\"StartTime\": 1650566563.5851648, \"EndTime\": 1650566563.5851738, \"Dimensions\": {\"Algorithm\": \"Linear Learner\", \"Host\": \"algo-1\", \"Operation\": \"training\", \"epoch\": 2, \"model\": 23}, \"Metrics\": {\"train_binary_classification_cross_entropy_objective\": {\"sum\": 0.4516177241007487, \"count\": 1, \"min\": 0.4516177241007487, \"max\": 0.4516177241007487}}}\u001b[0m\n",
      "\u001b[34m#metrics {\"StartTime\": 1650566563.5852196, \"EndTime\": 1650566563.5852284, \"Dimensions\": {\"Algorithm\": \"Linear Learner\", \"Host\": \"algo-1\", \"Operation\": \"training\", \"epoch\": 2, \"model\": 24}, \"Metrics\": {\"train_binary_classification_cross_entropy_objective\": {\"sum\": 0.6903631973266602, \"count\": 1, \"min\": 0.6903631973266602, \"max\": 0.6903631973266602}}}\u001b[0m\n",
      "\u001b[34m#metrics {\"StartTime\": 1650566563.5852654, \"EndTime\": 1650566563.58529, \"Dimensions\": {\"Algorithm\": \"Linear Learner\", \"Host\": \"algo-1\", \"Operation\": \"training\", \"epoch\": 2, \"model\": 25}, \"Metrics\": {\"train_binary_classification_cross_entropy_objective\": {\"sum\": 0.6889856338500977, \"count\": 1, \"min\": 0.6889856338500977, \"max\": 0.6889856338500977}}}\u001b[0m\n",
      "\u001b[34m#metrics {\"StartTime\": 1650566563.5853345, \"EndTime\": 1650566563.585342, \"Dimensions\": {\"Algorithm\": \"Linear Learner\", \"Host\": \"algo-1\", \"Operation\": \"training\", \"epoch\": 2, \"model\": 26}, \"Metrics\": {\"train_binary_classification_cross_entropy_objective\": {\"sum\": 0.6831055959065755, \"count\": 1, \"min\": 0.6831055959065755, \"max\": 0.6831055959065755}}}\u001b[0m\n",
      "\u001b[34m#metrics {\"StartTime\": 1650566563.5853875, \"EndTime\": 1650566563.5853968, \"Dimensions\": {\"Algorithm\": \"Linear Learner\", \"Host\": \"algo-1\", \"Operation\": \"training\", \"epoch\": 2, \"model\": 27}, \"Metrics\": {\"train_binary_classification_cross_entropy_objective\": {\"sum\": 0.6910999298095704, \"count\": 1, \"min\": 0.6910999298095704, \"max\": 0.6910999298095704}}}\u001b[0m\n",
      "\u001b[34m#metrics {\"StartTime\": 1650566563.585434, \"EndTime\": 1650566563.5854418, \"Dimensions\": {\"Algorithm\": \"Linear Learner\", \"Host\": \"algo-1\", \"Operation\": \"training\", \"epoch\": 2, \"model\": 28}, \"Metrics\": {\"train_binary_classification_cross_entropy_objective\": {\"sum\": 0.6257533264160157, \"count\": 1, \"min\": 0.6257533264160157, \"max\": 0.6257533264160157}}}\u001b[0m\n",
      "\u001b[34m#metrics {\"StartTime\": 1650566563.5855029, \"EndTime\": 1650566563.5855122, \"Dimensions\": {\"Algorithm\": \"Linear Learner\", \"Host\": \"algo-1\", \"Operation\": \"training\", \"epoch\": 2, \"model\": 29}, \"Metrics\": {\"train_binary_classification_cross_entropy_objective\": {\"sum\": 0.636127815246582, \"count\": 1, \"min\": 0.636127815246582, \"max\": 0.636127815246582}}}\u001b[0m\n",
      "\u001b[34m#metrics {\"StartTime\": 1650566563.585578, \"EndTime\": 1650566563.5855873, \"Dimensions\": {\"Algorithm\": \"Linear Learner\", \"Host\": \"algo-1\", \"Operation\": \"training\", \"epoch\": 2, \"model\": 30}, \"Metrics\": {\"train_binary_classification_cross_entropy_objective\": {\"sum\": 0.6394407272338867, \"count\": 1, \"min\": 0.6394407272338867, \"max\": 0.6394407272338867}}}\u001b[0m\n",
      "\u001b[34m#metrics {\"StartTime\": 1650566563.5856166, \"EndTime\": 1650566563.585644, \"Dimensions\": {\"Algorithm\": \"Linear Learner\", \"Host\": \"algo-1\", \"Operation\": \"training\", \"epoch\": 2, \"model\": 31}, \"Metrics\": {\"train_binary_classification_cross_entropy_objective\": {\"sum\": 0.632077980041504, \"count\": 1, \"min\": 0.632077980041504, \"max\": 0.632077980041504}}}\u001b[0m\n",
      "\u001b[34m[04/21/2022 18:42:43 INFO 140680991950656] #quality_metric: host=algo-1, epoch=2, train binary_classification_cross_entropy_objective <loss>=0.6198531595865885\u001b[0m\n",
      "\u001b[34m[04/21/2022 18:42:43 INFO 140680991950656] #early_stopping_criteria_metric: host=algo-1, epoch=2, criteria=binary_classification_cross_entropy_objective, value=0.34612613677978515\u001b[0m\n",
      "\u001b[34m[04/21/2022 18:42:43 INFO 140680991950656] Epoch 2: Loss improved. Updating best model\u001b[0m\n",
      "\u001b[34m[04/21/2022 18:42:43 INFO 140680991950656] Saving model for epoch: 2\u001b[0m\n",
      "\u001b[34m[04/21/2022 18:42:43 INFO 140680991950656] Saved checkpoint to \"/tmp/tmpkxni_gvp/mx-mod-0000.params\"\u001b[0m\n",
      "\u001b[34m[04/21/2022 18:42:43 INFO 140680991950656] #progress_metric: host=algo-1, completed 20.0 % of epochs\u001b[0m\n",
      "\u001b[34m#metrics {\"StartTime\": 1650566563.5093675, \"EndTime\": 1650566563.6015637, \"Dimensions\": {\"Algorithm\": \"Linear Learner\", \"Host\": \"algo-1\", \"Operation\": \"training\", \"epoch\": 2, \"Meta\": \"training_data_iter\"}, \"Metrics\": {\"Total Records Seen\": {\"sum\": 1312.0, \"count\": 1, \"min\": 1312, \"max\": 1312}, \"Total Batches Seen\": {\"sum\": 17.0, \"count\": 1, \"min\": 17, \"max\": 17}, \"Max Records Seen Between Resets\": {\"sum\": 303.0, \"count\": 1, \"min\": 303, \"max\": 303}, \"Max Batches Seen Between Resets\": {\"sum\": 4.0, \"count\": 1, \"min\": 4, \"max\": 4}, \"Reset Count\": {\"sum\": 5.0, \"count\": 1, \"min\": 5, \"max\": 5}, \"Number of Records Since Last Reset\": {\"sum\": 303.0, \"count\": 1, \"min\": 303, \"max\": 303}, \"Number of Batches Since Last Reset\": {\"sum\": 4.0, \"count\": 1, \"min\": 4, \"max\": 4}}}\u001b[0m\n",
      "\u001b[34m[04/21/2022 18:42:43 INFO 140680991950656] #throughput_metric: host=algo-1, train throughput=3281.1908262139154 records/second\u001b[0m\n",
      "\u001b[34m[2022-04-21 18:42:43.675] [tensorio] [info] epoch_stats={\"data_pipeline\": \"/opt/ml/input/data/train\", \"epoch\": 10, \"duration\": 72, \"num_examples\": 4, \"num_bytes\": 29088}\u001b[0m\n",
      "\u001b[34m#metrics {\"StartTime\": 1650566563.6759834, \"EndTime\": 1650566563.6760755, \"Dimensions\": {\"Algorithm\": \"Linear Learner\", \"Host\": \"algo-1\", \"Operation\": \"training\", \"epoch\": 3, \"model\": 0}, \"Metrics\": {\"train_binary_classification_cross_entropy_objective\": {\"sum\": 0.5973579915364583, \"count\": 1, \"min\": 0.5973579915364583, \"max\": 0.5973579915364583}}}\u001b[0m\n",
      "\u001b[34m#metrics {\"StartTime\": 1650566563.6761882, \"EndTime\": 1650566563.6762075, \"Dimensions\": {\"Algorithm\": \"Linear Learner\", \"Host\": \"algo-1\", \"Operation\": \"training\", \"epoch\": 3, \"model\": 1}, \"Metrics\": {\"train_binary_classification_cross_entropy_objective\": {\"sum\": 0.6210063171386718, \"count\": 1, \"min\": 0.6210063171386718, \"max\": 0.6210063171386718}}}\u001b[0m\n",
      "\u001b[34m#metrics {\"StartTime\": 1650566563.6762495, \"EndTime\": 1650566563.6762671, \"Dimensions\": {\"Algorithm\": \"Linear Learner\", \"Host\": \"algo-1\", \"Operation\": \"training\", \"epoch\": 3, \"model\": 2}, \"Metrics\": {\"train_binary_classification_cross_entropy_objective\": {\"sum\": 0.6308654149373373, \"count\": 1, \"min\": 0.6308654149373373, \"max\": 0.6308654149373373}}}\u001b[0m\n",
      "\u001b[34m#metrics {\"StartTime\": 1650566563.6763198, \"EndTime\": 1650566563.6763318, \"Dimensions\": {\"Algorithm\": \"Linear Learner\", \"Host\": \"algo-1\", \"Operation\": \"training\", \"epoch\": 3, \"model\": 3}, \"Metrics\": {\"train_binary_classification_cross_entropy_objective\": {\"sum\": 0.6392192586263021, \"count\": 1, \"min\": 0.6392192586263021, \"max\": 0.6392192586263021}}}\u001b[0m\n",
      "\u001b[34m#metrics {\"StartTime\": 1650566563.676387, \"EndTime\": 1650566563.676417, \"Dimensions\": {\"Algorithm\": \"Linear Learner\", \"Host\": \"algo-1\", \"Operation\": \"training\", \"epoch\": 3, \"model\": 4}, \"Metrics\": {\"train_binary_classification_cross_entropy_objective\": {\"sum\": 0.3554547119140625, \"count\": 1, \"min\": 0.3554547119140625, \"max\": 0.3554547119140625}}}\u001b[0m\n",
      "\u001b[34m#metrics {\"StartTime\": 1650566563.6764734, \"EndTime\": 1650566563.6764834, \"Dimensions\": {\"Algorithm\": \"Linear Learner\", \"Host\": \"algo-1\", \"Operation\": \"training\", \"epoch\": 3, \"model\": 5}, \"Metrics\": {\"train_binary_classification_cross_entropy_objective\": {\"sum\": 0.35515323638916013, \"count\": 1, \"min\": 0.35515323638916013, \"max\": 0.35515323638916013}}}\u001b[0m\n",
      "\u001b[34m#metrics {\"StartTime\": 1650566563.6765218, \"EndTime\": 1650566563.67653, \"Dimensions\": {\"Algorithm\": \"Linear Learner\", \"Host\": \"algo-1\", \"Operation\": \"training\", \"epoch\": 3, \"model\": 6}, \"Metrics\": {\"train_binary_classification_cross_entropy_objective\": {\"sum\": 0.3562973658243815, \"count\": 1, \"min\": 0.3562973658243815, \"max\": 0.3562973658243815}}}\u001b[0m\n",
      "\u001b[34m#metrics {\"StartTime\": 1650566563.6765597, \"EndTime\": 1650566563.6765676, \"Dimensions\": {\"Algorithm\": \"Linear Learner\", \"Host\": \"algo-1\", \"Operation\": \"training\", \"epoch\": 3, \"model\": 7}, \"Metrics\": {\"train_binary_classification_cross_entropy_objective\": {\"sum\": 0.35593660990397136, \"count\": 1, \"min\": 0.35593660990397136, \"max\": 0.35593660990397136}}}\u001b[0m\n",
      "\u001b[34m#metrics {\"StartTime\": 1650566563.6765964, \"EndTime\": 1650566563.6766043, \"Dimensions\": {\"Algorithm\": \"Linear Learner\", \"Host\": \"algo-1\", \"Operation\": \"training\", \"epoch\": 3, \"model\": 8}, \"Metrics\": {\"train_binary_classification_cross_entropy_objective\": {\"sum\": 0.6571915181477864, \"count\": 1, \"min\": 0.6571915181477864, \"max\": 0.6571915181477864}}}\u001b[0m\n",
      "\u001b[34m#metrics {\"StartTime\": 1650566563.6766322, \"EndTime\": 1650566563.6766403, \"Dimensions\": {\"Algorithm\": \"Linear Learner\", \"Host\": \"algo-1\", \"Operation\": \"training\", \"epoch\": 3, \"model\": 9}, \"Metrics\": {\"train_binary_classification_cross_entropy_objective\": {\"sum\": 0.6330397542317708, \"count\": 1, \"min\": 0.6330397542317708, \"max\": 0.6330397542317708}}}\u001b[0m\n",
      "\u001b[34m#metrics {\"StartTime\": 1650566563.6766696, \"EndTime\": 1650566563.676678, \"Dimensions\": {\"Algorithm\": \"Linear Learner\", \"Host\": \"algo-1\", \"Operation\": \"training\", \"epoch\": 3, \"model\": 10}, \"Metrics\": {\"train_binary_classification_cross_entropy_objective\": {\"sum\": 0.6325984573364258, \"count\": 1, \"min\": 0.6325984573364258, \"max\": 0.6325984573364258}}}\u001b[0m\n",
      "\u001b[34m#metrics {\"StartTime\": 1650566563.6767085, \"EndTime\": 1650566563.6767168, \"Dimensions\": {\"Algorithm\": \"Linear Learner\", \"Host\": \"algo-1\", \"Operation\": \"training\", \"epoch\": 3, \"model\": 11}, \"Metrics\": {\"train_binary_classification_cross_entropy_objective\": {\"sum\": 0.6535082117716471, \"count\": 1, \"min\": 0.6535082117716471, \"max\": 0.6535082117716471}}}\u001b[0m\n",
      "\u001b[34m#metrics {\"StartTime\": 1650566563.6767452, \"EndTime\": 1650566563.6767526, \"Dimensions\": {\"Algorithm\": \"Linear Learner\", \"Host\": \"algo-1\", \"Operation\": \"training\", \"epoch\": 3, \"model\": 12}, \"Metrics\": {\"train_binary_classification_cross_entropy_objective\": {\"sum\": 0.3510095024108887, \"count\": 1, \"min\": 0.3510095024108887, \"max\": 0.3510095024108887}}}\u001b[0m\n",
      "\u001b[34m#metrics {\"StartTime\": 1650566563.6767807, \"EndTime\": 1650566563.6767883, \"Dimensions\": {\"Algorithm\": \"Linear Learner\", \"Host\": \"algo-1\", \"Operation\": \"training\", \"epoch\": 3, \"model\": 13}, \"Metrics\": {\"train_binary_classification_cross_entropy_objective\": {\"sum\": 0.3514539845784505, \"count\": 1, \"min\": 0.3514539845784505, \"max\": 0.3514539845784505}}}\u001b[0m\n",
      "\u001b[34m#metrics {\"StartTime\": 1650566563.6768167, \"EndTime\": 1650566563.676824, \"Dimensions\": {\"Algorithm\": \"Linear Learner\", \"Host\": \"algo-1\", \"Operation\": \"training\", \"epoch\": 3, \"model\": 14}, \"Metrics\": {\"train_binary_classification_cross_entropy_objective\": {\"sum\": 0.35304251352945965, \"count\": 1, \"min\": 0.35304251352945965, \"max\": 0.35304251352945965}}}\u001b[0m\n",
      "\u001b[34m#metrics {\"StartTime\": 1650566563.6768527, \"EndTime\": 1650566563.67686, \"Dimensions\": {\"Algorithm\": \"Linear Learner\", \"Host\": \"algo-1\", \"Operation\": \"training\", \"epoch\": 3, \"model\": 15}, \"Metrics\": {\"train_binary_classification_cross_entropy_objective\": {\"sum\": 0.35594563802083334, \"count\": 1, \"min\": 0.35594563802083334, \"max\": 0.35594563802083334}}}\u001b[0m\n",
      "\u001b[34m#metrics {\"StartTime\": 1650566563.6768897, \"EndTime\": 1650566563.6768975, \"Dimensions\": {\"Algorithm\": \"Linear Learner\", \"Host\": \"algo-1\", \"Operation\": \"training\", \"epoch\": 3, \"model\": 16}, \"Metrics\": {\"train_binary_classification_cross_entropy_objective\": {\"sum\": 0.62001220703125, \"count\": 1, \"min\": 0.62001220703125, \"max\": 0.62001220703125}}}\u001b[0m\n",
      "\u001b[34m#metrics {\"StartTime\": 1650566563.6769264, \"EndTime\": 1650566563.6769345, \"Dimensions\": {\"Algorithm\": \"Linear Learner\", \"Host\": \"algo-1\", \"Operation\": \"training\", \"epoch\": 3, \"model\": 17}, \"Metrics\": {\"train_binary_classification_cross_entropy_objective\": {\"sum\": 0.6360827763875325, \"count\": 1, \"min\": 0.6360827763875325, \"max\": 0.6360827763875325}}}\u001b[0m\n",
      "\u001b[34m#metrics {\"StartTime\": 1650566563.6769645, \"EndTime\": 1650566563.6769733, \"Dimensions\": {\"Algorithm\": \"Linear Learner\", \"Host\": \"algo-1\", \"Operation\": \"training\", \"epoch\": 3, \"model\": 18}, \"Metrics\": {\"train_binary_classification_cross_entropy_objective\": {\"sum\": 0.5866117350260417, \"count\": 1, \"min\": 0.5866117350260417, \"max\": 0.5866117350260417}}}\u001b[0m\n",
      "\u001b[34m#metrics {\"StartTime\": 1650566563.677002, \"EndTime\": 1650566563.6770096, \"Dimensions\": {\"Algorithm\": \"Linear Learner\", \"Host\": \"algo-1\", \"Operation\": \"training\", \"epoch\": 3, \"model\": 19}, \"Metrics\": {\"train_binary_classification_cross_entropy_objective\": {\"sum\": 0.6022295888264974, \"count\": 1, \"min\": 0.6022295888264974, \"max\": 0.6022295888264974}}}\u001b[0m\n",
      "\u001b[34m#metrics {\"StartTime\": 1650566563.6770384, \"EndTime\": 1650566563.677046, \"Dimensions\": {\"Algorithm\": \"Linear Learner\", \"Host\": \"algo-1\", \"Operation\": \"training\", \"epoch\": 3, \"model\": 20}, \"Metrics\": {\"train_binary_classification_cross_entropy_objective\": {\"sum\": 0.5895389048258464, \"count\": 1, \"min\": 0.5895389048258464, \"max\": 0.5895389048258464}}}\u001b[0m\n",
      "\u001b[34m#metrics {\"StartTime\": 1650566563.6770754, \"EndTime\": 1650566563.6770828, \"Dimensions\": {\"Algorithm\": \"Linear Learner\", \"Host\": \"algo-1\", \"Operation\": \"training\", \"epoch\": 3, \"model\": 21}, \"Metrics\": {\"train_binary_classification_cross_entropy_objective\": {\"sum\": 0.5889144643147787, \"count\": 1, \"min\": 0.5889144643147787, \"max\": 0.5889144643147787}}}\u001b[0m\n",
      "\u001b[34m#metrics {\"StartTime\": 1650566563.6771116, \"EndTime\": 1650566563.6771188, \"Dimensions\": {\"Algorithm\": \"Linear Learner\", \"Host\": \"algo-1\", \"Operation\": \"training\", \"epoch\": 3, \"model\": 22}, \"Metrics\": {\"train_binary_classification_cross_entropy_objective\": {\"sum\": 0.5901890182495118, \"count\": 1, \"min\": 0.5901890182495118, \"max\": 0.5901890182495118}}}\u001b[0m\n",
      "\u001b[34m#metrics {\"StartTime\": 1650566563.6771472, \"EndTime\": 1650566563.6771553, \"Dimensions\": {\"Algorithm\": \"Linear Learner\", \"Host\": \"algo-1\", \"Operation\": \"training\", \"epoch\": 3, \"model\": 23}, \"Metrics\": {\"train_binary_classification_cross_entropy_objective\": {\"sum\": 0.5905410639444987, \"count\": 1, \"min\": 0.5905410639444987, \"max\": 0.5905410639444987}}}\u001b[0m\n",
      "\u001b[34m#metrics {\"StartTime\": 1650566563.6771834, \"EndTime\": 1650566563.6771915, \"Dimensions\": {\"Algorithm\": \"Linear Learner\", \"Host\": \"algo-1\", \"Operation\": \"training\", \"epoch\": 3, \"model\": 24}, \"Metrics\": {\"train_binary_classification_cross_entropy_objective\": {\"sum\": 0.6873759460449219, \"count\": 1, \"min\": 0.6873759460449219, \"max\": 0.6873759460449219}}}\u001b[0m\n",
      "\u001b[34m#metrics {\"StartTime\": 1650566563.6772213, \"EndTime\": 1650566563.6772296, \"Dimensions\": {\"Algorithm\": \"Linear Learner\", \"Host\": \"algo-1\", \"Operation\": \"training\", \"epoch\": 3, \"model\": 25}, \"Metrics\": {\"train_binary_classification_cross_entropy_objective\": {\"sum\": 0.6892389424641927, \"count\": 1, \"min\": 0.6892389424641927, \"max\": 0.6892389424641927}}}\u001b[0m\n",
      "\u001b[34m#metrics {\"StartTime\": 1650566563.6772587, \"EndTime\": 1650566563.6772664, \"Dimensions\": {\"Algorithm\": \"Linear Learner\", \"Host\": \"algo-1\", \"Operation\": \"training\", \"epoch\": 3, \"model\": 26}, \"Metrics\": {\"train_binary_classification_cross_entropy_objective\": {\"sum\": 0.6892655436197916, \"count\": 1, \"min\": 0.6892655436197916, \"max\": 0.6892655436197916}}}\u001b[0m\n",
      "\u001b[34m#metrics {\"StartTime\": 1650566563.6772966, \"EndTime\": 1650566563.6773055, \"Dimensions\": {\"Algorithm\": \"Linear Learner\", \"Host\": \"algo-1\", \"Operation\": \"training\", \"epoch\": 3, \"model\": 27}, \"Metrics\": {\"train_binary_classification_cross_entropy_objective\": {\"sum\": 0.6832876586914063, \"count\": 1, \"min\": 0.6832876586914063, \"max\": 0.6832876586914063}}}\u001b[0m\n",
      "\u001b[34m#metrics {\"StartTime\": 1650566563.6773336, \"EndTime\": 1650566563.6773407, \"Dimensions\": {\"Algorithm\": \"Linear Learner\", \"Host\": \"algo-1\", \"Operation\": \"training\", \"epoch\": 3, \"model\": 28}, \"Metrics\": {\"train_binary_classification_cross_entropy_objective\": {\"sum\": 0.6594673919677735, \"count\": 1, \"min\": 0.6594673919677735, \"max\": 0.6594673919677735}}}\u001b[0m\n",
      "\u001b[34m#metrics {\"StartTime\": 1650566563.6773682, \"EndTime\": 1650566563.6773753, \"Dimensions\": {\"Algorithm\": \"Linear Learner\", \"Host\": \"algo-1\", \"Operation\": \"training\", \"epoch\": 3, \"model\": 29}, \"Metrics\": {\"train_binary_classification_cross_entropy_objective\": {\"sum\": 0.7134950002034505, \"count\": 1, \"min\": 0.7134950002034505, \"max\": 0.7134950002034505}}}\u001b[0m\n",
      "\u001b[34m#metrics {\"StartTime\": 1650566563.6774044, \"EndTime\": 1650566563.6774116, \"Dimensions\": {\"Algorithm\": \"Linear Learner\", \"Host\": \"algo-1\", \"Operation\": \"training\", \"epoch\": 3, \"model\": 30}, \"Metrics\": {\"train_binary_classification_cross_entropy_objective\": {\"sum\": 0.7128129577636719, \"count\": 1, \"min\": 0.7128129577636719, \"max\": 0.7128129577636719}}}\u001b[0m\n",
      "\u001b[34m#metrics {\"StartTime\": 1650566563.6774402, \"EndTime\": 1650566563.6774478, \"Dimensions\": {\"Algorithm\": \"Linear Learner\", \"Host\": \"algo-1\", \"Operation\": \"training\", \"epoch\": 3, \"model\": 31}, \"Metrics\": {\"train_binary_classification_cross_entropy_objective\": {\"sum\": 0.7122915903727214, \"count\": 1, \"min\": 0.7122915903727214, \"max\": 0.7122915903727214}}}\u001b[0m\n",
      "\u001b[34m[04/21/2022 18:42:43 INFO 140680991950656] #quality_metric: host=algo-1, epoch=3, train binary_classification_cross_entropy_objective <loss>=0.5973579915364583\u001b[0m\n",
      "\u001b[34m[04/21/2022 18:42:43 INFO 140680991950656] #early_stopping_criteria_metric: host=algo-1, epoch=3, criteria=binary_classification_cross_entropy_objective, value=0.3510095024108887\u001b[0m\n",
      "\u001b[34m[04/21/2022 18:42:43 INFO 140680991950656] Saving model for epoch: 3\u001b[0m\n",
      "\u001b[34m[04/21/2022 18:42:43 INFO 140680991950656] Saved checkpoint to \"/tmp/tmpad1mi9ca/mx-mod-0000.params\"\u001b[0m\n",
      "\u001b[34m[04/21/2022 18:42:43 INFO 140680991950656] #progress_metric: host=algo-1, completed 26.666666666666668 % of epochs\u001b[0m\n",
      "\u001b[34m#metrics {\"StartTime\": 1650566563.6018803, \"EndTime\": 1650566563.686289, \"Dimensions\": {\"Algorithm\": \"Linear Learner\", \"Host\": \"algo-1\", \"Operation\": \"training\", \"epoch\": 3, \"Meta\": \"training_data_iter\"}, \"Metrics\": {\"Total Records Seen\": {\"sum\": 1615.0, \"count\": 1, \"min\": 1615, \"max\": 1615}, \"Total Batches Seen\": {\"sum\": 21.0, \"count\": 1, \"min\": 21, \"max\": 21}, \"Max Records Seen Between Resets\": {\"sum\": 303.0, \"count\": 1, \"min\": 303, \"max\": 303}, \"Max Batches Seen Between Resets\": {\"sum\": 4.0, \"count\": 1, \"min\": 4, \"max\": 4}, \"Reset Count\": {\"sum\": 6.0, \"count\": 1, \"min\": 6, \"max\": 6}, \"Number of Records Since Last Reset\": {\"sum\": 303.0, \"count\": 1, \"min\": 303, \"max\": 303}, \"Number of Batches Since Last Reset\": {\"sum\": 4.0, \"count\": 1, \"min\": 4, \"max\": 4}}}\u001b[0m\n",
      "\u001b[34m[04/21/2022 18:42:43 INFO 140680991950656] #throughput_metric: host=algo-1, train throughput=3584.6729811299465 records/second\u001b[0m\n",
      "\u001b[34m[2022-04-21 18:42:43.757] [tensorio] [info] epoch_stats={\"data_pipeline\": \"/opt/ml/input/data/train\", \"epoch\": 12, \"duration\": 71, \"num_examples\": 4, \"num_bytes\": 29088}\u001b[0m\n",
      "\u001b[34m#metrics {\"StartTime\": 1650566563.7579398, \"EndTime\": 1650566563.7580085, \"Dimensions\": {\"Algorithm\": \"Linear Learner\", \"Host\": \"algo-1\", \"Operation\": \"training\", \"epoch\": 4, \"model\": 0}, \"Metrics\": {\"train_binary_classification_cross_entropy_objective\": {\"sum\": 0.5772270329793294, \"count\": 1, \"min\": 0.5772270329793294, \"max\": 0.5772270329793294}}}\u001b[0m\n",
      "\u001b[34m#metrics {\"StartTime\": 1650566563.7580788, \"EndTime\": 1650566563.7580905, \"Dimensions\": {\"Algorithm\": \"Linear Learner\", \"Host\": \"algo-1\", \"Operation\": \"training\", \"epoch\": 4, \"model\": 1}, \"Metrics\": {\"train_binary_classification_cross_entropy_objective\": {\"sum\": 0.599765485127767, \"count\": 1, \"min\": 0.599765485127767, \"max\": 0.599765485127767}}}\u001b[0m\n",
      "\u001b[34m#metrics {\"StartTime\": 1650566563.758126, \"EndTime\": 1650566563.7581353, \"Dimensions\": {\"Algorithm\": \"Linear Learner\", \"Host\": \"algo-1\", \"Operation\": \"training\", \"epoch\": 4, \"model\": 2}, \"Metrics\": {\"train_binary_classification_cross_entropy_objective\": {\"sum\": 0.6084649022420248, \"count\": 1, \"min\": 0.6084649022420248, \"max\": 0.6084649022420248}}}\u001b[0m\n",
      "\u001b[34m#metrics {\"StartTime\": 1650566563.758161, \"EndTime\": 1650566563.7581694, \"Dimensions\": {\"Algorithm\": \"Linear Learner\", \"Host\": \"algo-1\", \"Operation\": \"training\", \"epoch\": 4, \"model\": 3}, \"Metrics\": {\"train_binary_classification_cross_entropy_objective\": {\"sum\": 0.6171630732218425, \"count\": 1, \"min\": 0.6171630732218425, \"max\": 0.6171630732218425}}}\u001b[0m\n",
      "\u001b[34m#metrics {\"StartTime\": 1650566563.7581925, \"EndTime\": 1650566563.7582004, \"Dimensions\": {\"Algorithm\": \"Linear Learner\", \"Host\": \"algo-1\", \"Operation\": \"training\", \"epoch\": 4, \"model\": 4}, \"Metrics\": {\"train_binary_classification_cross_entropy_objective\": {\"sum\": 0.3718816121419271, \"count\": 1, \"min\": 0.3718816121419271, \"max\": 0.3718816121419271}}}\u001b[0m\n",
      "\u001b[34m#metrics {\"StartTime\": 1650566563.7582228, \"EndTime\": 1650566563.7582304, \"Dimensions\": {\"Algorithm\": \"Linear Learner\", \"Host\": \"algo-1\", \"Operation\": \"training\", \"epoch\": 4, \"model\": 5}, \"Metrics\": {\"train_binary_classification_cross_entropy_objective\": {\"sum\": 0.37394712448120115, \"count\": 1, \"min\": 0.37394712448120115, \"max\": 0.37394712448120115}}}\u001b[0m\n",
      "\u001b[34m#metrics {\"StartTime\": 1650566563.7582564, \"EndTime\": 1650566563.758264, \"Dimensions\": {\"Algorithm\": \"Linear Learner\", \"Host\": \"algo-1\", \"Operation\": \"training\", \"epoch\": 4, \"model\": 6}, \"Metrics\": {\"train_binary_classification_cross_entropy_objective\": {\"sum\": 0.3736203384399414, \"count\": 1, \"min\": 0.3736203384399414, \"max\": 0.3736203384399414}}}\u001b[0m\n",
      "\u001b[34m#metrics {\"StartTime\": 1650566563.7582889, \"EndTime\": 1650566563.7582965, \"Dimensions\": {\"Algorithm\": \"Linear Learner\", \"Host\": \"algo-1\", \"Operation\": \"training\", \"epoch\": 4, \"model\": 7}, \"Metrics\": {\"train_binary_classification_cross_entropy_objective\": {\"sum\": 0.37467416127522785, \"count\": 1, \"min\": 0.37467416127522785, \"max\": 0.37467416127522785}}}\u001b[0m\n",
      "\u001b[34m#metrics {\"StartTime\": 1650566563.7583187, \"EndTime\": 1650566563.7583265, \"Dimensions\": {\"Algorithm\": \"Linear Learner\", \"Host\": \"algo-1\", \"Operation\": \"training\", \"epoch\": 4, \"model\": 8}, \"Metrics\": {\"train_binary_classification_cross_entropy_objective\": {\"sum\": 0.6340054829915365, \"count\": 1, \"min\": 0.6340054829915365, \"max\": 0.6340054829915365}}}\u001b[0m\n",
      "\u001b[34m#metrics {\"StartTime\": 1650566563.7583487, \"EndTime\": 1650566563.7583559, \"Dimensions\": {\"Algorithm\": \"Linear Learner\", \"Host\": \"algo-1\", \"Operation\": \"training\", \"epoch\": 4, \"model\": 9}, \"Metrics\": {\"train_binary_classification_cross_entropy_objective\": {\"sum\": 0.6107876841227213, \"count\": 1, \"min\": 0.6107876841227213, \"max\": 0.6107876841227213}}}\u001b[0m\n",
      "\u001b[34m#metrics {\"StartTime\": 1650566563.7583776, \"EndTime\": 1650566563.758385, \"Dimensions\": {\"Algorithm\": \"Linear Learner\", \"Host\": \"algo-1\", \"Operation\": \"training\", \"epoch\": 4, \"model\": 10}, \"Metrics\": {\"train_binary_classification_cross_entropy_objective\": {\"sum\": 0.6111020914713542, \"count\": 1, \"min\": 0.6111020914713542, \"max\": 0.6111020914713542}}}\u001b[0m\n",
      "\u001b[34m#metrics {\"StartTime\": 1650566563.758407, \"EndTime\": 1650566563.7584147, \"Dimensions\": {\"Algorithm\": \"Linear Learner\", \"Host\": \"algo-1\", \"Operation\": \"training\", \"epoch\": 4, \"model\": 11}, \"Metrics\": {\"train_binary_classification_cross_entropy_objective\": {\"sum\": 0.6302843475341797, \"count\": 1, \"min\": 0.6302843475341797, \"max\": 0.6302843475341797}}}\u001b[0m\n",
      "\u001b[34m#metrics {\"StartTime\": 1650566563.7584367, \"EndTime\": 1650566563.758444, \"Dimensions\": {\"Algorithm\": \"Linear Learner\", \"Host\": \"algo-1\", \"Operation\": \"training\", \"epoch\": 4, \"model\": 12}, \"Metrics\": {\"train_binary_classification_cross_entropy_objective\": {\"sum\": 0.3682013956705729, \"count\": 1, \"min\": 0.3682013956705729, \"max\": 0.3682013956705729}}}\u001b[0m\n",
      "\u001b[34m#metrics {\"StartTime\": 1650566563.7584653, \"EndTime\": 1650566563.7584732, \"Dimensions\": {\"Algorithm\": \"Linear Learner\", \"Host\": \"algo-1\", \"Operation\": \"training\", \"epoch\": 4, \"model\": 13}, \"Metrics\": {\"train_binary_classification_cross_entropy_objective\": {\"sum\": 0.36708285013834635, \"count\": 1, \"min\": 0.36708285013834635, \"max\": 0.36708285013834635}}}\u001b[0m\n",
      "\u001b[34m#metrics {\"StartTime\": 1650566563.7584991, \"EndTime\": 1650566563.7585063, \"Dimensions\": {\"Algorithm\": \"Linear Learner\", \"Host\": \"algo-1\", \"Operation\": \"training\", \"epoch\": 4, \"model\": 14}, \"Metrics\": {\"train_binary_classification_cross_entropy_objective\": {\"sum\": 0.3686867650349935, \"count\": 1, \"min\": 0.3686867650349935, \"max\": 0.3686867650349935}}}\u001b[0m\n",
      "\u001b[34m#metrics {\"StartTime\": 1650566563.7585347, \"EndTime\": 1650566563.7585437, \"Dimensions\": {\"Algorithm\": \"Linear Learner\", \"Host\": \"algo-1\", \"Operation\": \"training\", \"epoch\": 4, \"model\": 15}, \"Metrics\": {\"train_binary_classification_cross_entropy_objective\": {\"sum\": 0.37247901916503906, \"count\": 1, \"min\": 0.37247901916503906, \"max\": 0.37247901916503906}}}\u001b[0m\n",
      "\u001b[34m#metrics {\"StartTime\": 1650566563.7585802, \"EndTime\": 1650566563.7585893, \"Dimensions\": {\"Algorithm\": \"Linear Learner\", \"Host\": \"algo-1\", \"Operation\": \"training\", \"epoch\": 4, \"model\": 16}, \"Metrics\": {\"train_binary_classification_cross_entropy_objective\": {\"sum\": 0.601567497253418, \"count\": 1, \"min\": 0.601567497253418, \"max\": 0.601567497253418}}}\u001b[0m\n",
      "\u001b[34m#metrics {\"StartTime\": 1650566563.7586167, \"EndTime\": 1650566563.7586246, \"Dimensions\": {\"Algorithm\": \"Linear Learner\", \"Host\": \"algo-1\", \"Operation\": \"training\", \"epoch\": 4, \"model\": 17}, \"Metrics\": {\"train_binary_classification_cross_entropy_objective\": {\"sum\": 0.6151055018107097, \"count\": 1, \"min\": 0.6151055018107097, \"max\": 0.6151055018107097}}}\u001b[0m\n",
      "\u001b[34m#metrics {\"StartTime\": 1650566563.7586553, \"EndTime\": 1650566563.758663, \"Dimensions\": {\"Algorithm\": \"Linear Learner\", \"Host\": \"algo-1\", \"Operation\": \"training\", \"epoch\": 4, \"model\": 18}, \"Metrics\": {\"train_binary_classification_cross_entropy_objective\": {\"sum\": 0.5706556574503581, \"count\": 1, \"min\": 0.5706556574503581, \"max\": 0.5706556574503581}}}\u001b[0m\n",
      "\u001b[34m#metrics {\"StartTime\": 1650566563.7586908, \"EndTime\": 1650566563.758698, \"Dimensions\": {\"Algorithm\": \"Linear Learner\", \"Host\": \"algo-1\", \"Operation\": \"training\", \"epoch\": 4, \"model\": 19}, \"Metrics\": {\"train_binary_classification_cross_entropy_objective\": {\"sum\": 0.5856049219767253, \"count\": 1, \"min\": 0.5856049219767253, \"max\": 0.5856049219767253}}}\u001b[0m\n",
      "\u001b[34m#metrics {\"StartTime\": 1650566563.7587254, \"EndTime\": 1650566563.7587335, \"Dimensions\": {\"Algorithm\": \"Linear Learner\", \"Host\": \"algo-1\", \"Operation\": \"training\", \"epoch\": 4, \"model\": 20}, \"Metrics\": {\"train_binary_classification_cross_entropy_objective\": {\"sum\": 0.5921568806966145, \"count\": 1, \"min\": 0.5921568806966145, \"max\": 0.5921568806966145}}}\u001b[0m\n",
      "\u001b[34m#metrics {\"StartTime\": 1650566563.7587612, \"EndTime\": 1650566563.7587688, \"Dimensions\": {\"Algorithm\": \"Linear Learner\", \"Host\": \"algo-1\", \"Operation\": \"training\", \"epoch\": 4, \"model\": 21}, \"Metrics\": {\"train_binary_classification_cross_entropy_objective\": {\"sum\": 0.6002352778116862, \"count\": 1, \"min\": 0.6002352778116862, \"max\": 0.6002352778116862}}}\u001b[0m\n",
      "\u001b[34m#metrics {\"StartTime\": 1650566563.7587953, \"EndTime\": 1650566563.7588024, \"Dimensions\": {\"Algorithm\": \"Linear Learner\", \"Host\": \"algo-1\", \"Operation\": \"training\", \"epoch\": 4, \"model\": 22}, \"Metrics\": {\"train_binary_classification_cross_entropy_objective\": {\"sum\": 0.6044252522786459, \"count\": 1, \"min\": 0.6044252522786459, \"max\": 0.6044252522786459}}}\u001b[0m\n",
      "\u001b[34m#metrics {\"StartTime\": 1650566563.7588294, \"EndTime\": 1650566563.7588372, \"Dimensions\": {\"Algorithm\": \"Linear Learner\", \"Host\": \"algo-1\", \"Operation\": \"training\", \"epoch\": 4, \"model\": 23}, \"Metrics\": {\"train_binary_classification_cross_entropy_objective\": {\"sum\": 0.6458948008219401, \"count\": 1, \"min\": 0.6458948008219401, \"max\": 0.6458948008219401}}}\u001b[0m\n",
      "\u001b[34m#metrics {\"StartTime\": 1650566563.7588656, \"EndTime\": 1650566563.7588737, \"Dimensions\": {\"Algorithm\": \"Linear Learner\", \"Host\": \"algo-1\", \"Operation\": \"training\", \"epoch\": 4, \"model\": 24}, \"Metrics\": {\"train_binary_classification_cross_entropy_objective\": {\"sum\": 0.68638671875, \"count\": 1, \"min\": 0.68638671875, \"max\": 0.68638671875}}}\u001b[0m\n",
      "\u001b[34m#metrics {\"StartTime\": 1650566563.7589025, \"EndTime\": 1650566563.7589107, \"Dimensions\": {\"Algorithm\": \"Linear Learner\", \"Host\": \"algo-1\", \"Operation\": \"training\", \"epoch\": 4, \"model\": 25}, \"Metrics\": {\"train_binary_classification_cross_entropy_objective\": {\"sum\": 0.6890514755249023, \"count\": 1, \"min\": 0.6890514755249023, \"max\": 0.6890514755249023}}}\u001b[0m\n",
      "\u001b[34m#metrics {\"StartTime\": 1650566563.7589388, \"EndTime\": 1650566563.7589478, \"Dimensions\": {\"Algorithm\": \"Linear Learner\", \"Host\": \"algo-1\", \"Operation\": \"training\", \"epoch\": 4, \"model\": 26}, \"Metrics\": {\"train_binary_classification_cross_entropy_objective\": {\"sum\": 0.6923810831705729, \"count\": 1, \"min\": 0.6923810831705729, \"max\": 0.6923810831705729}}}\u001b[0m\n",
      "\u001b[34m#metrics {\"StartTime\": 1650566563.7589765, \"EndTime\": 1650566563.7589839, \"Dimensions\": {\"Algorithm\": \"Linear Learner\", \"Host\": \"algo-1\", \"Operation\": \"training\", \"epoch\": 4, \"model\": 27}, \"Metrics\": {\"train_binary_classification_cross_entropy_objective\": {\"sum\": 0.6793195343017578, \"count\": 1, \"min\": 0.6793195343017578, \"max\": 0.6793195343017578}}}\u001b[0m\n",
      "\u001b[34m#metrics {\"StartTime\": 1650566563.7590117, \"EndTime\": 1650566563.7590194, \"Dimensions\": {\"Algorithm\": \"Linear Learner\", \"Host\": \"algo-1\", \"Operation\": \"training\", \"epoch\": 4, \"model\": 28}, \"Metrics\": {\"train_binary_classification_cross_entropy_objective\": {\"sum\": 0.7615887578328451, \"count\": 1, \"min\": 0.7615887578328451, \"max\": 0.7615887578328451}}}\u001b[0m\n",
      "\u001b[34m#metrics {\"StartTime\": 1650566563.7590451, \"EndTime\": 1650566563.759053, \"Dimensions\": {\"Algorithm\": \"Linear Learner\", \"Host\": \"algo-1\", \"Operation\": \"training\", \"epoch\": 4, \"model\": 29}, \"Metrics\": {\"train_binary_classification_cross_entropy_objective\": {\"sum\": 0.7374829864501953, \"count\": 1, \"min\": 0.7374829864501953, \"max\": 0.7374829864501953}}}\u001b[0m\n",
      "\u001b[34m#metrics {\"StartTime\": 1650566563.7590806, \"EndTime\": 1650566563.7590888, \"Dimensions\": {\"Algorithm\": \"Linear Learner\", \"Host\": \"algo-1\", \"Operation\": \"training\", \"epoch\": 4, \"model\": 30}, \"Metrics\": {\"train_binary_classification_cross_entropy_objective\": {\"sum\": 0.7324945322672526, \"count\": 1, \"min\": 0.7324945322672526, \"max\": 0.7324945322672526}}}\u001b[0m\n",
      "\u001b[34m#metrics {\"StartTime\": 1650566563.7591171, \"EndTime\": 1650566563.7591252, \"Dimensions\": {\"Algorithm\": \"Linear Learner\", \"Host\": \"algo-1\", \"Operation\": \"training\", \"epoch\": 4, \"model\": 31}, \"Metrics\": {\"train_binary_classification_cross_entropy_objective\": {\"sum\": 0.7450181325276692, \"count\": 1, \"min\": 0.7450181325276692, \"max\": 0.7450181325276692}}}\u001b[0m\n",
      "\u001b[34m[04/21/2022 18:42:43 INFO 140680991950656] #quality_metric: host=algo-1, epoch=4, train binary_classification_cross_entropy_objective <loss>=0.5772270329793294\u001b[0m\n",
      "\u001b[34m[04/21/2022 18:42:43 INFO 140680991950656] #early_stopping_criteria_metric: host=algo-1, epoch=4, criteria=binary_classification_cross_entropy_objective, value=0.36708285013834635\u001b[0m\n",
      "\u001b[34m[04/21/2022 18:42:43 INFO 140680991950656] Saving model for epoch: 4\u001b[0m\n",
      "\u001b[34m[04/21/2022 18:42:43 INFO 140680991950656] Saved checkpoint to \"/tmp/tmps5rno2n4/mx-mod-0000.params\"\u001b[0m\n",
      "\u001b[34m[04/21/2022 18:42:43 INFO 140680991950656] #progress_metric: host=algo-1, completed 33.333333333333336 % of epochs\u001b[0m\n",
      "\u001b[34m#metrics {\"StartTime\": 1650566563.686592, \"EndTime\": 1650566563.7649636, \"Dimensions\": {\"Algorithm\": \"Linear Learner\", \"Host\": \"algo-1\", \"Operation\": \"training\", \"epoch\": 4, \"Meta\": \"training_data_iter\"}, \"Metrics\": {\"Total Records Seen\": {\"sum\": 1918.0, \"count\": 1, \"min\": 1918, \"max\": 1918}, \"Total Batches Seen\": {\"sum\": 25.0, \"count\": 1, \"min\": 25, \"max\": 25}, \"Max Records Seen Between Resets\": {\"sum\": 303.0, \"count\": 1, \"min\": 303, \"max\": 303}, \"Max Batches Seen Between Resets\": {\"sum\": 4.0, \"count\": 1, \"min\": 4, \"max\": 4}, \"Reset Count\": {\"sum\": 7.0, \"count\": 1, \"min\": 7, \"max\": 7}, \"Number of Records Since Last Reset\": {\"sum\": 303.0, \"count\": 1, \"min\": 303, \"max\": 303}, \"Number of Batches Since Last Reset\": {\"sum\": 4.0, \"count\": 1, \"min\": 4, \"max\": 4}}}\u001b[0m\n",
      "\u001b[34m[04/21/2022 18:42:43 INFO 140680991950656] #throughput_metric: host=algo-1, train throughput=3861.794566211572 records/second\u001b[0m\n",
      "\u001b[34m[2022-04-21 18:42:43.837] [tensorio] [info] epoch_stats={\"data_pipeline\": \"/opt/ml/input/data/train\", \"epoch\": 14, \"duration\": 70, \"num_examples\": 4, \"num_bytes\": 29088}\u001b[0m\n",
      "\u001b[34m#metrics {\"StartTime\": 1650566563.8373373, \"EndTime\": 1650566563.8374171, \"Dimensions\": {\"Algorithm\": \"Linear Learner\", \"Host\": \"algo-1\", \"Operation\": \"training\", \"epoch\": 5, \"model\": 0}, \"Metrics\": {\"train_binary_classification_cross_entropy_objective\": {\"sum\": 0.558996098836263, \"count\": 1, \"min\": 0.558996098836263, \"max\": 0.558996098836263}}}\u001b[0m\n",
      "\u001b[34m#metrics {\"StartTime\": 1650566563.8375018, \"EndTime\": 1650566563.8375163, \"Dimensions\": {\"Algorithm\": \"Linear Learner\", \"Host\": \"algo-1\", \"Operation\": \"training\", \"epoch\": 5, \"model\": 1}, \"Metrics\": {\"train_binary_classification_cross_entropy_objective\": {\"sum\": 0.5804351170857748, \"count\": 1, \"min\": 0.5804351170857748, \"max\": 0.5804351170857748}}}\u001b[0m\n",
      "\u001b[34m#metrics {\"StartTime\": 1650566563.8375645, \"EndTime\": 1650566563.837574, \"Dimensions\": {\"Algorithm\": \"Linear Learner\", \"Host\": \"algo-1\", \"Operation\": \"training\", \"epoch\": 5, \"model\": 2}, \"Metrics\": {\"train_binary_classification_cross_entropy_objective\": {\"sum\": 0.5880360666910808, \"count\": 1, \"min\": 0.5880360666910808, \"max\": 0.5880360666910808}}}\u001b[0m\n",
      "\u001b[34m#metrics {\"StartTime\": 1650566563.8376076, \"EndTime\": 1650566563.8376157, \"Dimensions\": {\"Algorithm\": \"Linear Learner\", \"Host\": \"algo-1\", \"Operation\": \"training\", \"epoch\": 5, \"model\": 3}, \"Metrics\": {\"train_binary_classification_cross_entropy_objective\": {\"sum\": 0.5970255533854166, \"count\": 1, \"min\": 0.5970255533854166, \"max\": 0.5970255533854166}}}\u001b[0m\n",
      "\u001b[34m#metrics {\"StartTime\": 1650566563.8376443, \"EndTime\": 1650566563.8376515, \"Dimensions\": {\"Algorithm\": \"Linear Learner\", \"Host\": \"algo-1\", \"Operation\": \"training\", \"epoch\": 5, \"model\": 4}, \"Metrics\": {\"train_binary_classification_cross_entropy_objective\": {\"sum\": 0.3795226160685221, \"count\": 1, \"min\": 0.3795226160685221, \"max\": 0.3795226160685221}}}\u001b[0m\n",
      "\u001b[34m#metrics {\"StartTime\": 1650566563.837679, \"EndTime\": 1650566563.8376858, \"Dimensions\": {\"Algorithm\": \"Linear Learner\", \"Host\": \"algo-1\", \"Operation\": \"training\", \"epoch\": 5, \"model\": 5}, \"Metrics\": {\"train_binary_classification_cross_entropy_objective\": {\"sum\": 0.38235122044881187, \"count\": 1, \"min\": 0.38235122044881187, \"max\": 0.38235122044881187}}}\u001b[0m\n",
      "\u001b[34m#metrics {\"StartTime\": 1650566563.8377087, \"EndTime\": 1650566563.8377154, \"Dimensions\": {\"Algorithm\": \"Linear Learner\", \"Host\": \"algo-1\", \"Operation\": \"training\", \"epoch\": 5, \"model\": 6}, \"Metrics\": {\"train_binary_classification_cross_entropy_objective\": {\"sum\": 0.3816290092468262, \"count\": 1, \"min\": 0.3816290092468262, \"max\": 0.3816290092468262}}}\u001b[0m\n",
      "\u001b[34m#metrics {\"StartTime\": 1650566563.8377442, \"EndTime\": 1650566563.8377492, \"Dimensions\": {\"Algorithm\": \"Linear Learner\", \"Host\": \"algo-1\", \"Operation\": \"training\", \"epoch\": 5, \"model\": 7}, \"Metrics\": {\"train_binary_classification_cross_entropy_objective\": {\"sum\": 0.38272630055745444, \"count\": 1, \"min\": 0.38272630055745444, \"max\": 0.38272630055745444}}}\u001b[0m\n",
      "\u001b[34m#metrics {\"StartTime\": 1650566563.8377666, \"EndTime\": 1650566563.837771, \"Dimensions\": {\"Algorithm\": \"Linear Learner\", \"Host\": \"algo-1\", \"Operation\": \"training\", \"epoch\": 5, \"model\": 8}, \"Metrics\": {\"train_binary_classification_cross_entropy_objective\": {\"sum\": 0.6127690378824869, \"count\": 1, \"min\": 0.6127690378824869, \"max\": 0.6127690378824869}}}\u001b[0m\n",
      "\u001b[34m#metrics {\"StartTime\": 1650566563.8377924, \"EndTime\": 1650566563.837798, \"Dimensions\": {\"Algorithm\": \"Linear Learner\", \"Host\": \"algo-1\", \"Operation\": \"training\", \"epoch\": 5, \"model\": 9}, \"Metrics\": {\"train_binary_classification_cross_entropy_objective\": {\"sum\": 0.5904385503133138, \"count\": 1, \"min\": 0.5904385503133138, \"max\": 0.5904385503133138}}}\u001b[0m\n",
      "\u001b[34m#metrics {\"StartTime\": 1650566563.8378155, \"EndTime\": 1650566563.8378198, \"Dimensions\": {\"Algorithm\": \"Linear Learner\", \"Host\": \"algo-1\", \"Operation\": \"training\", \"epoch\": 5, \"model\": 10}, \"Metrics\": {\"train_binary_classification_cross_entropy_objective\": {\"sum\": 0.5914981206258138, \"count\": 1, \"min\": 0.5914981206258138, \"max\": 0.5914981206258138}}}\u001b[0m\n",
      "\u001b[34m#metrics {\"StartTime\": 1650566563.8378367, \"EndTime\": 1650566563.837841, \"Dimensions\": {\"Algorithm\": \"Linear Learner\", \"Host\": \"algo-1\", \"Operation\": \"training\", \"epoch\": 5, \"model\": 11}, \"Metrics\": {\"train_binary_classification_cross_entropy_objective\": {\"sum\": 0.6090147781372071, \"count\": 1, \"min\": 0.6090147781372071, \"max\": 0.6090147781372071}}}\u001b[0m\n",
      "\u001b[34m#metrics {\"StartTime\": 1650566563.8378587, \"EndTime\": 1650566563.8378646, \"Dimensions\": {\"Algorithm\": \"Linear Learner\", \"Host\": \"algo-1\", \"Operation\": \"training\", \"epoch\": 5, \"model\": 12}, \"Metrics\": {\"train_binary_classification_cross_entropy_objective\": {\"sum\": 0.37711442947387697, \"count\": 1, \"min\": 0.37711442947387697, \"max\": 0.37711442947387697}}}\u001b[0m\n",
      "\u001b[34m#metrics {\"StartTime\": 1650566563.837885, \"EndTime\": 1650566563.8378894, \"Dimensions\": {\"Algorithm\": \"Linear Learner\", \"Host\": \"algo-1\", \"Operation\": \"training\", \"epoch\": 5, \"model\": 13}, \"Metrics\": {\"train_binary_classification_cross_entropy_objective\": {\"sum\": 0.37529679616292316, \"count\": 1, \"min\": 0.37529679616292316, \"max\": 0.37529679616292316}}}\u001b[0m\n",
      "\u001b[34m#metrics {\"StartTime\": 1650566563.8379061, \"EndTime\": 1650566563.8379102, \"Dimensions\": {\"Algorithm\": \"Linear Learner\", \"Host\": \"algo-1\", \"Operation\": \"training\", \"epoch\": 5, \"model\": 14}, \"Metrics\": {\"train_binary_classification_cross_entropy_objective\": {\"sum\": 0.37651508967081704, \"count\": 1, \"min\": 0.37651508967081704, \"max\": 0.37651508967081704}}}\u001b[0m\n",
      "\u001b[34m#metrics {\"StartTime\": 1650566563.8379285, \"EndTime\": 1650566563.8379354, \"Dimensions\": {\"Algorithm\": \"Linear Learner\", \"Host\": \"algo-1\", \"Operation\": \"training\", \"epoch\": 5, \"model\": 15}, \"Metrics\": {\"train_binary_classification_cross_entropy_objective\": {\"sum\": 0.37873743693033857, \"count\": 1, \"min\": 0.37873743693033857, \"max\": 0.37873743693033857}}}\u001b[0m\n",
      "\u001b[34m#metrics {\"StartTime\": 1650566563.8379636, \"EndTime\": 1650566563.8379707, \"Dimensions\": {\"Algorithm\": \"Linear Learner\", \"Host\": \"algo-1\", \"Operation\": \"training\", \"epoch\": 5, \"model\": 16}, \"Metrics\": {\"train_binary_classification_cross_entropy_objective\": {\"sum\": 0.5855858484903972, \"count\": 1, \"min\": 0.5855858484903972, \"max\": 0.5855858484903972}}}\u001b[0m\n",
      "\u001b[34m#metrics {\"StartTime\": 1650566563.8380005, \"EndTime\": 1650566563.8380089, \"Dimensions\": {\"Algorithm\": \"Linear Learner\", \"Host\": \"algo-1\", \"Operation\": \"training\", \"epoch\": 5, \"model\": 17}, \"Metrics\": {\"train_binary_classification_cross_entropy_objective\": {\"sum\": 0.5967004903157552, \"count\": 1, \"min\": 0.5967004903157552, \"max\": 0.5967004903157552}}}\u001b[0m\n",
      "\u001b[34m#metrics {\"StartTime\": 1650566563.8380418, \"EndTime\": 1650566563.8380492, \"Dimensions\": {\"Algorithm\": \"Linear Learner\", \"Host\": \"algo-1\", \"Operation\": \"training\", \"epoch\": 5, \"model\": 18}, \"Metrics\": {\"train_binary_classification_cross_entropy_objective\": {\"sum\": 0.5572598775227865, \"count\": 1, \"min\": 0.5572598775227865, \"max\": 0.5572598775227865}}}\u001b[0m\n",
      "\u001b[34m#metrics {\"StartTime\": 1650566563.8381124, \"EndTime\": 1650566563.8381226, \"Dimensions\": {\"Algorithm\": \"Linear Learner\", \"Host\": \"algo-1\", \"Operation\": \"training\", \"epoch\": 5, \"model\": 19}, \"Metrics\": {\"train_binary_classification_cross_entropy_objective\": {\"sum\": 0.5714790344238281, \"count\": 1, \"min\": 0.5714790344238281, \"max\": 0.5714790344238281}}}\u001b[0m\n",
      "\u001b[34m#metrics {\"StartTime\": 1650566563.8381531, \"EndTime\": 1650566563.8381612, \"Dimensions\": {\"Algorithm\": \"Linear Learner\", \"Host\": \"algo-1\", \"Operation\": \"training\", \"epoch\": 5, \"model\": 20}, \"Metrics\": {\"train_binary_classification_cross_entropy_objective\": {\"sum\": 0.5490658950805664, \"count\": 1, \"min\": 0.5490658950805664, \"max\": 0.5490658950805664}}}\u001b[0m\n",
      "\u001b[34m#metrics {\"StartTime\": 1650566563.83819, \"EndTime\": 1650566563.8381968, \"Dimensions\": {\"Algorithm\": \"Linear Learner\", \"Host\": \"algo-1\", \"Operation\": \"training\", \"epoch\": 5, \"model\": 21}, \"Metrics\": {\"train_binary_classification_cross_entropy_objective\": {\"sum\": 0.5505253219604492, \"count\": 1, \"min\": 0.5505253219604492, \"max\": 0.5505253219604492}}}\u001b[0m\n",
      "\u001b[34m#metrics {\"StartTime\": 1650566563.8382277, \"EndTime\": 1650566563.8382359, \"Dimensions\": {\"Algorithm\": \"Linear Learner\", \"Host\": \"algo-1\", \"Operation\": \"training\", \"epoch\": 5, \"model\": 22}, \"Metrics\": {\"train_binary_classification_cross_entropy_objective\": {\"sum\": 0.5531153106689453, \"count\": 1, \"min\": 0.5531153106689453, \"max\": 0.5531153106689453}}}\u001b[0m\n",
      "\u001b[34m#metrics {\"StartTime\": 1650566563.8382657, \"EndTime\": 1650566563.8382728, \"Dimensions\": {\"Algorithm\": \"Linear Learner\", \"Host\": \"algo-1\", \"Operation\": \"training\", \"epoch\": 5, \"model\": 23}, \"Metrics\": {\"train_binary_classification_cross_entropy_objective\": {\"sum\": 0.572873789469401, \"count\": 1, \"min\": 0.572873789469401, \"max\": 0.572873789469401}}}\u001b[0m\n",
      "\u001b[34m#metrics {\"StartTime\": 1650566563.8383048, \"EndTime\": 1650566563.838312, \"Dimensions\": {\"Algorithm\": \"Linear Learner\", \"Host\": \"algo-1\", \"Operation\": \"training\", \"epoch\": 5, \"model\": 24}, \"Metrics\": {\"train_binary_classification_cross_entropy_objective\": {\"sum\": 0.6862902196248373, \"count\": 1, \"min\": 0.6862902196248373, \"max\": 0.6862902196248373}}}\u001b[0m\n",
      "\u001b[34m#metrics {\"StartTime\": 1650566563.8383405, \"EndTime\": 1650566563.8383482, \"Dimensions\": {\"Algorithm\": \"Linear Learner\", \"Host\": \"algo-1\", \"Operation\": \"training\", \"epoch\": 5, \"model\": 25}, \"Metrics\": {\"train_binary_classification_cross_entropy_objective\": {\"sum\": 0.6889699300130209, \"count\": 1, \"min\": 0.6889699300130209, \"max\": 0.6889699300130209}}}\u001b[0m\n",
      "\u001b[34m#metrics {\"StartTime\": 1650566563.838378, \"EndTime\": 1650566563.8383853, \"Dimensions\": {\"Algorithm\": \"Linear Learner\", \"Host\": \"algo-1\", \"Operation\": \"training\", \"epoch\": 5, \"model\": 26}, \"Metrics\": {\"train_binary_classification_cross_entropy_objective\": {\"sum\": 0.6924641672770182, \"count\": 1, \"min\": 0.6924641672770182, \"max\": 0.6924641672770182}}}\u001b[0m\n",
      "\u001b[34m#metrics {\"StartTime\": 1650566563.838415, \"EndTime\": 1650566563.8384235, \"Dimensions\": {\"Algorithm\": \"Linear Learner\", \"Host\": \"algo-1\", \"Operation\": \"training\", \"epoch\": 5, \"model\": 27}, \"Metrics\": {\"train_binary_classification_cross_entropy_objective\": {\"sum\": 0.6802410634358724, \"count\": 1, \"min\": 0.6802410634358724, \"max\": 0.6802410634358724}}}\u001b[0m\n",
      "\u001b[34m#metrics {\"StartTime\": 1650566563.8384578, \"EndTime\": 1650566563.8384655, \"Dimensions\": {\"Algorithm\": \"Linear Learner\", \"Host\": \"algo-1\", \"Operation\": \"training\", \"epoch\": 5, \"model\": 28}, \"Metrics\": {\"train_binary_classification_cross_entropy_objective\": {\"sum\": 0.7626080830891927, \"count\": 1, \"min\": 0.7626080830891927, \"max\": 0.7626080830891927}}}\u001b[0m\n",
      "\u001b[34m#metrics {\"StartTime\": 1650566563.8384972, \"EndTime\": 1650566563.8385053, \"Dimensions\": {\"Algorithm\": \"Linear Learner\", \"Host\": \"algo-1\", \"Operation\": \"training\", \"epoch\": 5, \"model\": 29}, \"Metrics\": {\"train_binary_classification_cross_entropy_objective\": {\"sum\": 0.7389017232259114, \"count\": 1, \"min\": 0.7389017232259114, \"max\": 0.7389017232259114}}}\u001b[0m\n",
      "\u001b[34m#metrics {\"StartTime\": 1650566563.838536, \"EndTime\": 1650566563.838543, \"Dimensions\": {\"Algorithm\": \"Linear Learner\", \"Host\": \"algo-1\", \"Operation\": \"training\", \"epoch\": 5, \"model\": 30}, \"Metrics\": {\"train_binary_classification_cross_entropy_objective\": {\"sum\": 0.7423662567138671, \"count\": 1, \"min\": 0.7423662567138671, \"max\": 0.7423662567138671}}}\u001b[0m\n",
      "\u001b[34m#metrics {\"StartTime\": 1650566563.8385715, \"EndTime\": 1650566563.838579, \"Dimensions\": {\"Algorithm\": \"Linear Learner\", \"Host\": \"algo-1\", \"Operation\": \"training\", \"epoch\": 5, \"model\": 31}, \"Metrics\": {\"train_binary_classification_cross_entropy_objective\": {\"sum\": 0.7297793833414713, \"count\": 1, \"min\": 0.7297793833414713, \"max\": 0.7297793833414713}}}\u001b[0m\n",
      "\u001b[34m[04/21/2022 18:42:43 INFO 140680991950656] #quality_metric: host=algo-1, epoch=5, train binary_classification_cross_entropy_objective <loss>=0.558996098836263\u001b[0m\n",
      "\u001b[34m[04/21/2022 18:42:43 INFO 140680991950656] #early_stopping_criteria_metric: host=algo-1, epoch=5, criteria=binary_classification_cross_entropy_objective, value=0.37529679616292316\u001b[0m\n",
      "\u001b[34m[04/21/2022 18:42:43 INFO 140680991950656] Saving model for epoch: 5\u001b[0m\n",
      "\u001b[34m[04/21/2022 18:42:43 INFO 140680991950656] Saved checkpoint to \"/tmp/tmpp_0f563e/mx-mod-0000.params\"\u001b[0m\n",
      "\u001b[34m[04/21/2022 18:42:43 INFO 140680991950656] #progress_metric: host=algo-1, completed 40.0 % of epochs\u001b[0m\n",
      "\u001b[34m#metrics {\"StartTime\": 1650566563.765124, \"EndTime\": 1650566563.8463242, \"Dimensions\": {\"Algorithm\": \"Linear Learner\", \"Host\": \"algo-1\", \"Operation\": \"training\", \"epoch\": 5, \"Meta\": \"training_data_iter\"}, \"Metrics\": {\"Total Records Seen\": {\"sum\": 2221.0, \"count\": 1, \"min\": 2221, \"max\": 2221}, \"Total Batches Seen\": {\"sum\": 29.0, \"count\": 1, \"min\": 29, \"max\": 29}, \"Max Records Seen Between Resets\": {\"sum\": 303.0, \"count\": 1, \"min\": 303, \"max\": 303}, \"Max Batches Seen Between Resets\": {\"sum\": 4.0, \"count\": 1, \"min\": 4, \"max\": 4}, \"Reset Count\": {\"sum\": 8.0, \"count\": 1, \"min\": 8, \"max\": 8}, \"Number of Records Since Last Reset\": {\"sum\": 303.0, \"count\": 1, \"min\": 303, \"max\": 303}, \"Number of Batches Since Last Reset\": {\"sum\": 4.0, \"count\": 1, \"min\": 4, \"max\": 4}}}\u001b[0m\n",
      "\u001b[34m[04/21/2022 18:42:43 INFO 140680991950656] #throughput_metric: host=algo-1, train throughput=3727.74530319163 records/second\u001b[0m\n",
      "\u001b[34m[2022-04-21 18:42:43.922] [tensorio] [info] epoch_stats={\"data_pipeline\": \"/opt/ml/input/data/train\", \"epoch\": 16, \"duration\": 75, \"num_examples\": 4, \"num_bytes\": 29088}\u001b[0m\n",
      "\u001b[34m#metrics {\"StartTime\": 1650566563.9222233, \"EndTime\": 1650566563.9222822, \"Dimensions\": {\"Algorithm\": \"Linear Learner\", \"Host\": \"algo-1\", \"Operation\": \"training\", \"epoch\": 6, \"model\": 0}, \"Metrics\": {\"train_binary_classification_cross_entropy_objective\": {\"sum\": 0.542460823059082, \"count\": 1, \"min\": 0.542460823059082, \"max\": 0.542460823059082}}}\u001b[0m\n",
      "\u001b[34m#metrics {\"StartTime\": 1650566563.9223452, \"EndTime\": 1650566563.922357, \"Dimensions\": {\"Algorithm\": \"Linear Learner\", \"Host\": \"algo-1\", \"Operation\": \"training\", \"epoch\": 6, \"model\": 1}, \"Metrics\": {\"train_binary_classification_cross_entropy_objective\": {\"sum\": 0.5628421529134114, \"count\": 1, \"min\": 0.5628421529134114, \"max\": 0.5628421529134114}}}\u001b[0m\n",
      "\u001b[34m#metrics {\"StartTime\": 1650566563.9223921, \"EndTime\": 1650566563.9224021, \"Dimensions\": {\"Algorithm\": \"Linear Learner\", \"Host\": \"algo-1\", \"Operation\": \"training\", \"epoch\": 6, \"model\": 2}, \"Metrics\": {\"train_binary_classification_cross_entropy_objective\": {\"sum\": 0.5693868637084961, \"count\": 1, \"min\": 0.5693868637084961, \"max\": 0.5693868637084961}}}\u001b[0m\n",
      "\u001b[34m#metrics {\"StartTime\": 1650566563.9224324, \"EndTime\": 1650566563.922442, \"Dimensions\": {\"Algorithm\": \"Linear Learner\", \"Host\": \"algo-1\", \"Operation\": \"training\", \"epoch\": 6, \"model\": 3}, \"Metrics\": {\"train_binary_classification_cross_entropy_objective\": {\"sum\": 0.578639030456543, \"count\": 1, \"min\": 0.578639030456543, \"max\": 0.578639030456543}}}\u001b[0m\n",
      "\u001b[34m#metrics {\"StartTime\": 1650566563.9224713, \"EndTime\": 1650566563.922479, \"Dimensions\": {\"Algorithm\": \"Linear Learner\", \"Host\": \"algo-1\", \"Operation\": \"training\", \"epoch\": 6, \"model\": 4}, \"Metrics\": {\"train_binary_classification_cross_entropy_objective\": {\"sum\": 0.3784409459431966, \"count\": 1, \"min\": 0.3784409459431966, \"max\": 0.3784409459431966}}}\u001b[0m\n",
      "\u001b[34m#metrics {\"StartTime\": 1650566563.9225104, \"EndTime\": 1650566563.922519, \"Dimensions\": {\"Algorithm\": \"Linear Learner\", \"Host\": \"algo-1\", \"Operation\": \"training\", \"epoch\": 6, \"model\": 5}, \"Metrics\": {\"train_binary_classification_cross_entropy_objective\": {\"sum\": 0.38112188975016276, \"count\": 1, \"min\": 0.38112188975016276, \"max\": 0.38112188975016276}}}\u001b[0m\n",
      "\u001b[34m#metrics {\"StartTime\": 1650566563.9225543, \"EndTime\": 1650566563.9225638, \"Dimensions\": {\"Algorithm\": \"Linear Learner\", \"Host\": \"algo-1\", \"Operation\": \"training\", \"epoch\": 6, \"model\": 6}, \"Metrics\": {\"train_binary_classification_cross_entropy_objective\": {\"sum\": 0.38027420043945315, \"count\": 1, \"min\": 0.38027420043945315, \"max\": 0.38027420043945315}}}\u001b[0m\n",
      "\u001b[34m#metrics {\"StartTime\": 1650566563.9225912, \"EndTime\": 1650566563.9226, \"Dimensions\": {\"Algorithm\": \"Linear Learner\", \"Host\": \"algo-1\", \"Operation\": \"training\", \"epoch\": 6, \"model\": 7}, \"Metrics\": {\"train_binary_classification_cross_entropy_objective\": {\"sum\": 0.3809751001993815, \"count\": 1, \"min\": 0.3809751001993815, \"max\": 0.3809751001993815}}}\u001b[0m\n",
      "\u001b[34m#metrics {\"StartTime\": 1650566563.9226305, \"EndTime\": 1650566563.9226394, \"Dimensions\": {\"Algorithm\": \"Linear Learner\", \"Host\": \"algo-1\", \"Operation\": \"training\", \"epoch\": 6, \"model\": 8}, \"Metrics\": {\"train_binary_classification_cross_entropy_objective\": {\"sum\": 0.593296407063802, \"count\": 1, \"min\": 0.593296407063802, \"max\": 0.593296407063802}}}\u001b[0m\n",
      "\u001b[34m#metrics {\"StartTime\": 1650566563.9226832, \"EndTime\": 1650566563.9226913, \"Dimensions\": {\"Algorithm\": \"Linear Learner\", \"Host\": \"algo-1\", \"Operation\": \"training\", \"epoch\": 6, \"model\": 9}, \"Metrics\": {\"train_binary_classification_cross_entropy_objective\": {\"sum\": 0.5718323008219401, \"count\": 1, \"min\": 0.5718323008219401, \"max\": 0.5718323008219401}}}\u001b[0m\n",
      "\u001b[34m#metrics {\"StartTime\": 1650566563.9227195, \"EndTime\": 1650566563.922727, \"Dimensions\": {\"Algorithm\": \"Linear Learner\", \"Host\": \"algo-1\", \"Operation\": \"training\", \"epoch\": 6, \"model\": 10}, \"Metrics\": {\"train_binary_classification_cross_entropy_objective\": {\"sum\": 0.5735920206705729, \"count\": 1, \"min\": 0.5735920206705729, \"max\": 0.5735920206705729}}}\u001b[0m\n",
      "\u001b[34m#metrics {\"StartTime\": 1650566563.9227571, \"EndTime\": 1650566563.922765, \"Dimensions\": {\"Algorithm\": \"Linear Learner\", \"Host\": \"algo-1\", \"Operation\": \"training\", \"epoch\": 6, \"model\": 11}, \"Metrics\": {\"train_binary_classification_cross_entropy_objective\": {\"sum\": 0.5895403289794922, \"count\": 1, \"min\": 0.5895403289794922, \"max\": 0.5895403289794922}}}\u001b[0m\n",
      "\u001b[34m#metrics {\"StartTime\": 1650566563.9227943, \"EndTime\": 1650566563.9228022, \"Dimensions\": {\"Algorithm\": \"Linear Learner\", \"Host\": \"algo-1\", \"Operation\": \"training\", \"epoch\": 6, \"model\": 12}, \"Metrics\": {\"train_binary_classification_cross_entropy_objective\": {\"sum\": 0.37536376953125, \"count\": 1, \"min\": 0.37536376953125, \"max\": 0.37536376953125}}}\u001b[0m\n",
      "\u001b[34m#metrics {\"StartTime\": 1650566563.9228246, \"EndTime\": 1650566563.9228318, \"Dimensions\": {\"Algorithm\": \"Linear Learner\", \"Host\": \"algo-1\", \"Operation\": \"training\", \"epoch\": 6, \"model\": 13}, \"Metrics\": {\"train_binary_classification_cross_entropy_objective\": {\"sum\": 0.37419418334960936, \"count\": 1, \"min\": 0.37419418334960936, \"max\": 0.37419418334960936}}}\u001b[0m\n",
      "\u001b[34m#metrics {\"StartTime\": 1650566563.922856, \"EndTime\": 1650566563.9228647, \"Dimensions\": {\"Algorithm\": \"Linear Learner\", \"Host\": \"algo-1\", \"Operation\": \"training\", \"epoch\": 6, \"model\": 14}, \"Metrics\": {\"train_binary_classification_cross_entropy_objective\": {\"sum\": 0.37512048085530597, \"count\": 1, \"min\": 0.37512048085530597, \"max\": 0.37512048085530597}}}\u001b[0m\n",
      "\u001b[34m#metrics {\"StartTime\": 1650566563.922889, \"EndTime\": 1650566563.9228969, \"Dimensions\": {\"Algorithm\": \"Linear Learner\", \"Host\": \"algo-1\", \"Operation\": \"training\", \"epoch\": 6, \"model\": 15}, \"Metrics\": {\"train_binary_classification_cross_entropy_objective\": {\"sum\": 0.3757580439249674, \"count\": 1, \"min\": 0.3757580439249674, \"max\": 0.3757580439249674}}}\u001b[0m\n",
      "\u001b[34m#metrics {\"StartTime\": 1650566563.9229193, \"EndTime\": 1650566563.9229267, \"Dimensions\": {\"Algorithm\": \"Linear Learner\", \"Host\": \"algo-1\", \"Operation\": \"training\", \"epoch\": 6, \"model\": 16}, \"Metrics\": {\"train_binary_classification_cross_entropy_objective\": {\"sum\": 0.5718240865071614, \"count\": 1, \"min\": 0.5718240865071614, \"max\": 0.5718240865071614}}}\u001b[0m\n",
      "\u001b[34m#metrics {\"StartTime\": 1650566563.9229558, \"EndTime\": 1650566563.9229643, \"Dimensions\": {\"Algorithm\": \"Linear Learner\", \"Host\": \"algo-1\", \"Operation\": \"training\", \"epoch\": 6, \"model\": 17}, \"Metrics\": {\"train_binary_classification_cross_entropy_objective\": {\"sum\": 0.5807617568969726, \"count\": 1, \"min\": 0.5807617568969726, \"max\": 0.5807617568969726}}}\u001b[0m\n",
      "\u001b[34m#metrics {\"StartTime\": 1650566563.9229891, \"EndTime\": 1650566563.9229972, \"Dimensions\": {\"Algorithm\": \"Linear Learner\", \"Host\": \"algo-1\", \"Operation\": \"training\", \"epoch\": 6, \"model\": 18}, \"Metrics\": {\"train_binary_classification_cross_entropy_objective\": {\"sum\": 0.546315434773763, \"count\": 1, \"min\": 0.546315434773763, \"max\": 0.546315434773763}}}\u001b[0m\n",
      "\u001b[34m#metrics {\"StartTime\": 1650566563.923019, \"EndTime\": 1650566563.9230268, \"Dimensions\": {\"Algorithm\": \"Linear Learner\", \"Host\": \"algo-1\", \"Operation\": \"training\", \"epoch\": 6, \"model\": 19}, \"Metrics\": {\"train_binary_classification_cross_entropy_objective\": {\"sum\": 0.5597548039754232, \"count\": 1, \"min\": 0.5597548039754232, \"max\": 0.5597548039754232}}}\u001b[0m\n",
      "\u001b[34m#metrics {\"StartTime\": 1650566563.923056, \"EndTime\": 1650566563.9230642, \"Dimensions\": {\"Algorithm\": \"Linear Learner\", \"Host\": \"algo-1\", \"Operation\": \"training\", \"epoch\": 6, \"model\": 20}, \"Metrics\": {\"train_binary_classification_cross_entropy_objective\": {\"sum\": 0.5502442677815755, \"count\": 1, \"min\": 0.5502442677815755, \"max\": 0.5502442677815755}}}\u001b[0m\n",
      "\u001b[34m#metrics {\"StartTime\": 1650566563.923088, \"EndTime\": 1650566563.9230955, \"Dimensions\": {\"Algorithm\": \"Linear Learner\", \"Host\": \"algo-1\", \"Operation\": \"training\", \"epoch\": 6, \"model\": 21}, \"Metrics\": {\"train_binary_classification_cross_entropy_objective\": {\"sum\": 0.5471936670939127, \"count\": 1, \"min\": 0.5471936670939127, \"max\": 0.5471936670939127}}}\u001b[0m\n",
      "\u001b[34m#metrics {\"StartTime\": 1650566563.9231205, \"EndTime\": 1650566563.923128, \"Dimensions\": {\"Algorithm\": \"Linear Learner\", \"Host\": \"algo-1\", \"Operation\": \"training\", \"epoch\": 6, \"model\": 22}, \"Metrics\": {\"train_binary_classification_cross_entropy_objective\": {\"sum\": 0.543574701944987, \"count\": 1, \"min\": 0.543574701944987, \"max\": 0.543574701944987}}}\u001b[0m\n",
      "\u001b[34m#metrics {\"StartTime\": 1650566563.9231565, \"EndTime\": 1650566563.9231648, \"Dimensions\": {\"Algorithm\": \"Linear Learner\", \"Host\": \"algo-1\", \"Operation\": \"training\", \"epoch\": 6, \"model\": 23}, \"Metrics\": {\"train_binary_classification_cross_entropy_objective\": {\"sum\": 0.5256737645467122, \"count\": 1, \"min\": 0.5256737645467122, \"max\": 0.5256737645467122}}}\u001b[0m\n",
      "\u001b[34m#metrics {\"StartTime\": 1650566563.9231918, \"EndTime\": 1650566563.9231992, \"Dimensions\": {\"Algorithm\": \"Linear Learner\", \"Host\": \"algo-1\", \"Operation\": \"training\", \"epoch\": 6, \"model\": 24}, \"Metrics\": {\"train_binary_classification_cross_entropy_objective\": {\"sum\": 0.6861975860595703, \"count\": 1, \"min\": 0.6861975860595703, \"max\": 0.6861975860595703}}}\u001b[0m\n",
      "\u001b[34m#metrics {\"StartTime\": 1650566563.9232223, \"EndTime\": 1650566563.9232287, \"Dimensions\": {\"Algorithm\": \"Linear Learner\", \"Host\": \"algo-1\", \"Operation\": \"training\", \"epoch\": 6, \"model\": 25}, \"Metrics\": {\"train_binary_classification_cross_entropy_objective\": {\"sum\": 0.6886198425292969, \"count\": 1, \"min\": 0.6886198425292969, \"max\": 0.6886198425292969}}}\u001b[0m\n",
      "\u001b[34m#metrics {\"StartTime\": 1650566563.9232547, \"EndTime\": 1650566563.9232633, \"Dimensions\": {\"Algorithm\": \"Linear Learner\", \"Host\": \"algo-1\", \"Operation\": \"training\", \"epoch\": 6, \"model\": 26}, \"Metrics\": {\"train_binary_classification_cross_entropy_objective\": {\"sum\": 0.6917652384440104, \"count\": 1, \"min\": 0.6917652384440104, \"max\": 0.6917652384440104}}}\u001b[0m\n",
      "\u001b[34m#metrics {\"StartTime\": 1650566563.923293, \"EndTime\": 1650566563.923302, \"Dimensions\": {\"Algorithm\": \"Linear Learner\", \"Host\": \"algo-1\", \"Operation\": \"training\", \"epoch\": 6, \"model\": 27}, \"Metrics\": {\"train_binary_classification_cross_entropy_objective\": {\"sum\": 0.6841443379720052, \"count\": 1, \"min\": 0.6841443379720052, \"max\": 0.6841443379720052}}}\u001b[0m\n",
      "\u001b[34m#metrics {\"StartTime\": 1650566563.9233332, \"EndTime\": 1650566563.923342, \"Dimensions\": {\"Algorithm\": \"Linear Learner\", \"Host\": \"algo-1\", \"Operation\": \"training\", \"epoch\": 6, \"model\": 28}, \"Metrics\": {\"train_binary_classification_cross_entropy_objective\": {\"sum\": 0.7164472198486328, \"count\": 1, \"min\": 0.7164472198486328, \"max\": 0.7164472198486328}}}\u001b[0m\n",
      "\u001b[34m#metrics {\"StartTime\": 1650566563.9233692, \"EndTime\": 1650566563.923376, \"Dimensions\": {\"Algorithm\": \"Linear Learner\", \"Host\": \"algo-1\", \"Operation\": \"training\", \"epoch\": 6, \"model\": 29}, \"Metrics\": {\"train_binary_classification_cross_entropy_objective\": {\"sum\": 0.7454929351806641, \"count\": 1, \"min\": 0.7454929351806641, \"max\": 0.7454929351806641}}}\u001b[0m\n",
      "\u001b[34m#metrics {\"StartTime\": 1650566563.9234033, \"EndTime\": 1650566563.9234111, \"Dimensions\": {\"Algorithm\": \"Linear Learner\", \"Host\": \"algo-1\", \"Operation\": \"training\", \"epoch\": 6, \"model\": 30}, \"Metrics\": {\"train_binary_classification_cross_entropy_objective\": {\"sum\": 0.7454262797037761, \"count\": 1, \"min\": 0.7454262797037761, \"max\": 0.7454262797037761}}}\u001b[0m\n",
      "\u001b[34m#metrics {\"StartTime\": 1650566563.9234405, \"EndTime\": 1650566563.9234483, \"Dimensions\": {\"Algorithm\": \"Linear Learner\", \"Host\": \"algo-1\", \"Operation\": \"training\", \"epoch\": 6, \"model\": 31}, \"Metrics\": {\"train_binary_classification_cross_entropy_objective\": {\"sum\": 0.7441591135660808, \"count\": 1, \"min\": 0.7441591135660808, \"max\": 0.7441591135660808}}}\u001b[0m\n",
      "\u001b[34m[04/21/2022 18:42:43 INFO 140680991950656] #quality_metric: host=algo-1, epoch=6, train binary_classification_cross_entropy_objective <loss>=0.542460823059082\u001b[0m\n",
      "\u001b[34m[04/21/2022 18:42:43 INFO 140680991950656] #early_stopping_criteria_metric: host=algo-1, epoch=6, criteria=binary_classification_cross_entropy_objective, value=0.37419418334960936\u001b[0m\n",
      "\u001b[34m[04/21/2022 18:42:43 INFO 140680991950656] Saving model for epoch: 6\u001b[0m\n",
      "\u001b[34m[04/21/2022 18:42:43 INFO 140680991950656] Saved checkpoint to \"/tmp/tmpuwzwtgvg/mx-mod-0000.params\"\u001b[0m\n",
      "\u001b[34m[04/21/2022 18:42:43 INFO 140680991950656] Early stop condition met. Stopping training.\u001b[0m\n",
      "\u001b[34m[04/21/2022 18:42:43 INFO 140680991950656] #progress_metric: host=algo-1, completed 100 % epochs\u001b[0m\n",
      "\u001b[34m#metrics {\"StartTime\": 1650566563.8464844, \"EndTime\": 1650566563.9307094, \"Dimensions\": {\"Algorithm\": \"Linear Learner\", \"Host\": \"algo-1\", \"Operation\": \"training\", \"epoch\": 6, \"Meta\": \"training_data_iter\"}, \"Metrics\": {\"Total Records Seen\": {\"sum\": 2524.0, \"count\": 1, \"min\": 2524, \"max\": 2524}, \"Total Batches Seen\": {\"sum\": 33.0, \"count\": 1, \"min\": 33, \"max\": 33}, \"Max Records Seen Between Resets\": {\"sum\": 303.0, \"count\": 1, \"min\": 303, \"max\": 303}, \"Max Batches Seen Between Resets\": {\"sum\": 4.0, \"count\": 1, \"min\": 4, \"max\": 4}, \"Reset Count\": {\"sum\": 9.0, \"count\": 1, \"min\": 9, \"max\": 9}, \"Number of Records Since Last Reset\": {\"sum\": 303.0, \"count\": 1, \"min\": 303, \"max\": 303}, \"Number of Batches Since Last Reset\": {\"sum\": 4.0, \"count\": 1, \"min\": 4, \"max\": 4}}}\u001b[0m\n",
      "\u001b[34m[04/21/2022 18:42:43 INFO 140680991950656] #throughput_metric: host=algo-1, train throughput=3593.247395980593 records/second\u001b[0m\n",
      "\u001b[34m[04/21/2022 18:42:43 WARNING 140680991950656] wait_for_all_workers will not sync workers since the kv store is not running distributed\u001b[0m\n",
      "\u001b[34m[04/21/2022 18:42:43 WARNING 140680991950656] wait_for_all_workers will not sync workers since the kv store is not running distributed\u001b[0m\n",
      "\u001b[34m[2022-04-21 18:42:43.931] [tensorio] [info] epoch_stats={\"data_pipeline\": \"/opt/ml/input/data/train\", \"epoch\": 18, \"duration\": 0, \"num_examples\": 1, \"num_bytes\": 9600}\u001b[0m\n",
      "\u001b[34m[2022-04-21 18:42:44.033] [tensorio] [info] epoch_stats={\"data_pipeline\": \"/opt/ml/input/data/train\", \"epoch\": 21, \"duration\": 99, \"num_examples\": 4, \"num_bytes\": 29088}\u001b[0m\n",
      "\u001b[34m[2022-04-21 18:42:44.053] [tensorio] [info] epoch_stats={\"data_pipeline\": \"/opt/ml/input/data/train\", \"epoch\": 23, \"duration\": 8, \"num_examples\": 4, \"num_bytes\": 29088}\u001b[0m\n",
      "\u001b[34m[04/21/2022 18:42:44 INFO 140680991950656] #train_score (algo-1) : ('binary_classification_cross_entropy_objective', 0.3711750318508337)\u001b[0m\n",
      "\u001b[34m[04/21/2022 18:42:44 INFO 140680991950656] #train_score (algo-1) : ('binary_classification_accuracy', 0.8415841584158416)\u001b[0m\n",
      "\u001b[34m[04/21/2022 18:42:44 INFO 140680991950656] #train_score (algo-1) : ('binary_f_1.000', 0.8554216867469879)\u001b[0m\n",
      "\u001b[34m[04/21/2022 18:42:44 INFO 140680991950656] #train_score (algo-1) : ('precision', 0.8502994011976048)\u001b[0m\n",
      "\u001b[34m[04/21/2022 18:42:44 INFO 140680991950656] #train_score (algo-1) : ('recall', 0.8606060606060606)\u001b[0m\n",
      "\u001b[34m[04/21/2022 18:42:44 INFO 140680991950656] #train_score (algo-1) : ('roc_auc_score', 0.9148001756697409)\u001b[0m\n",
      "\u001b[34m[04/21/2022 18:42:44 INFO 140680991950656] #train_score (algo-1) : ('binary_balanced_accuracy', 0.5)\u001b[0m\n",
      "\u001b[34m[04/21/2022 18:42:44 INFO 140680991950656] #train_score (algo-1) : ('binary_log_loss', 0.5815163333368643)\u001b[0m\n",
      "\u001b[34m[04/21/2022 18:42:44 INFO 140680991950656] #quality_metric: host=algo-1, train binary_classification_cross_entropy_objective <loss>=0.3711750318508337\u001b[0m\n",
      "\u001b[34m[04/21/2022 18:42:44 INFO 140680991950656] #quality_metric: host=algo-1, train binary_classification_accuracy <score>=0.8415841584158416\u001b[0m\n",
      "\u001b[34m[04/21/2022 18:42:44 INFO 140680991950656] #quality_metric: host=algo-1, train binary_f_1.000 <score>=0.8554216867469879\u001b[0m\n",
      "\u001b[34m[04/21/2022 18:42:44 INFO 140680991950656] #quality_metric: host=algo-1, train precision <score>=0.8502994011976048\u001b[0m\n",
      "\u001b[34m[04/21/2022 18:42:44 INFO 140680991950656] #quality_metric: host=algo-1, train recall <score>=0.8606060606060606\u001b[0m\n",
      "\u001b[34m[04/21/2022 18:42:44 INFO 140680991950656] #quality_metric: host=algo-1, train roc_auc_score <score>=0.9148001756697409\u001b[0m\n",
      "\u001b[34m[04/21/2022 18:42:44 INFO 140680991950656] #quality_metric: host=algo-1, train binary_balanced_accuracy <score>=0.5\u001b[0m\n",
      "\u001b[34m[04/21/2022 18:42:44 INFO 140680991950656] #quality_metric: host=algo-1, train binary_log_loss <score>=0.5815163333368643\u001b[0m\n",
      "\u001b[34m[04/21/2022 18:42:44 INFO 140680991950656] Best model found for hyperparameters: {\"optimizer\": \"adam\", \"learning_rate\": 0.1, \"wd\": 0.0001, \"l1\": 0.0, \"lr_scheduler_step\": 100, \"lr_scheduler_factor\": 0.99, \"lr_scheduler_minimum_lr\": 1e-05}\u001b[0m\n",
      "\u001b[34m[04/21/2022 18:42:44 INFO 140680991950656] Saved checkpoint to \"/tmp/tmpmwmwa3es/mx-mod-0000.params\"\u001b[0m\n",
      "\u001b[34m[04/21/2022 18:42:44 INFO 140680991950656] Test data is not provided.\u001b[0m\n",
      "\u001b[34m#metrics {\"StartTime\": 1650566563.1793494, \"EndTime\": 1650566564.0631695, \"Dimensions\": {\"Algorithm\": \"Linear Learner\", \"Host\": \"algo-1\", \"Operation\": \"training\"}, \"Metrics\": {\"initialize.time\": {\"sum\": 142.09604263305664, \"count\": 1, \"min\": 142.09604263305664, \"max\": 142.09604263305664}, \"epochs\": {\"sum\": 15.0, \"count\": 1, \"min\": 15, \"max\": 15}, \"check_early_stopping.time\": {\"sum\": 3.5767555236816406, \"count\": 7, \"min\": 0.18739700317382812, \"max\": 1.0159015655517578}, \"update.time\": {\"sum\": 578.6483287811279, \"count\": 7, \"min\": 76.40862464904785, \"max\": 92.4232006072998}, \"finalize.time\": {\"sum\": 127.43830680847168, \"count\": 1, \"min\": 127.43830680847168, \"max\": 127.43830680847168}, \"setuptime\": {\"sum\": 25.046825408935547, \"count\": 1, \"min\": 25.046825408935547, \"max\": 25.046825408935547}, \"totaltime\": {\"sum\": 1072.8774070739746, \"count\": 1, \"min\": 1072.8774070739746, \"max\": 1072.8774070739746}}}\u001b[0m\n",
      "\u001b[34m[04/21/2022 18:42:44 INFO 140680991950656 integration.py:636] worker closed\u001b[0m\n",
      "\n",
      "2022-04-21 18:42:59 Uploading - Uploading generated training model\n",
      "2022-04-21 18:42:59 Completed - Training job completed\n",
      "Training seconds: 68\n",
      "Billable seconds: 68\n"
     ]
    }
   ],
   "source": [
    "sess = sagemaker.Session()\n",
    "linear = sagemaker.estimator.Estimator(container,\n",
    "                                       role, \n",
    "                                       instance_count=1, \n",
    "                                       instance_type='ml.c5.xlarge',\n",
    "                                       output_path=output_location,\n",
    "                                       sagemaker_session=sess)\n",
    "linear.set_hyperparameters(feature_dim=13,\n",
    "                           predictor_type='binary_classifier',\n",
    "                           mini_batch_size=100)\n",
    "\n",
    "linear.fit({'train': s3_train_data})"
   ]
  },
  {
   "cell_type": "markdown",
   "metadata": {},
   "source": [
    "## 모델 호스팅\n",
    "\n",
    "이제 모델을 학습시켰으므로 Amazon SageMaker의 실시간 호스팅 엔드포인트에 모델을 배포할 수 있습니다. 이렇게 하면 모델에서 동적으로 예측(또는 추론)할 수 있습니다. Endpoint 생성은 5-10분 정도 소요됩니다.\n",
    "\n",
    "- 호스팅에 사용할 EC2 인스턴스 유형\n",
    "- 인스턴스의 초기 갯수\n",
    "- 호스팅 모델명"
   ]
  },
  {
   "cell_type": "code",
   "execution_count": 9,
   "metadata": {
    "scrolled": false
   },
   "outputs": [
    {
     "name": "stdout",
     "output_type": "stream",
     "text": [
      "----!CPU times: user 79.2 ms, sys: 8.66 ms, total: 87.9 ms\n",
      "Wall time: 2min 1s\n"
     ]
    }
   ],
   "source": [
    "%%time\n",
    "\n",
    "endpoint_name='heart-disease-'+strftime(\"%Y-%m-%d-%H-%M-%S\", gmtime())\n",
    "heartdisease_predictor = linear.deploy(initial_instance_count=1,\n",
    "                           instance_type='ml.c5.xlarge',\n",
    "                           endpoint_name=endpoint_name)"
   ]
  },
  {
   "cell_type": "markdown",
   "metadata": {},
   "source": [
    "## 모델 검증(예측)\n",
    "\n",
    "마지막으로 모델을 사용할 수 있는지 검증할 수 있습니다. HTTP POST 요청을 엔드포인트로 전달하여 예측을 가져올 수 있습니다. 이 작업을 더 쉽게 하기 위해 Amazon SageMaker Python SDK를 다시 사용하고 알고리즘에 맞는 요청을 직렬화(serialize)하고 응답을 역직렬화(deserialize)하는 방법을 지정합니다."
   ]
  },
  {
   "cell_type": "code",
   "execution_count": 10,
   "metadata": {},
   "outputs": [],
   "source": [
    "#from sagemaker.predictor import csv_serializer, json_deserializer\n",
    "from sagemaker.serializers import CSVSerializer\n",
    "from sagemaker.deserializers import JSONDeserializer\n",
    "\n",
    "heartdisease_predictor.serializer = CSVSerializer()\n",
    "heartdisease_predictor.deserializer = JSONDeserializer()"
   ]
  },
  {
   "cell_type": "raw",
   "metadata": {},
   "source": [
    "호출할 엔드포인트를 출력합니다."
   ]
  },
  {
   "cell_type": "code",
   "execution_count": 11,
   "metadata": {},
   "outputs": [
    {
     "name": "stdout",
     "output_type": "stream",
     "text": [
      "Endpoint name: heart-disease-2022-04-21-18-43-13\n"
     ]
    }
   ],
   "source": [
    "print('Endpoint name: {}'.format(heartdisease_predictor.endpoint_name))"
   ]
  },
  {
   "cell_type": "markdown",
   "metadata": {},
   "source": [
    "다음 샘플 데이터를 테스트용으로 전달해 보겠습니다. 파일의 단일 레코드입니다."
   ]
  },
  {
   "cell_type": "code",
   "execution_count": 12,
   "metadata": {},
   "outputs": [
    {
     "data": {
      "text/plain": [
       "array([ 57. ,   1. ,   0. , 140. , 192. ,   0. ,   1. , 148. ,   0. ,\n",
       "         0.4,   1. ,   0. ,   1. ], dtype=float32)"
      ]
     },
     "execution_count": 12,
     "metadata": {},
     "output_type": "execute_result"
    }
   ],
   "source": [
    "vectors[5][0:13]"
   ]
  },
  {
   "cell_type": "raw",
   "metadata": {},
   "source": [
    "\n",
    "예측 시간입니다! 주어진 데이터로 우리의 모델이 무엇을 예측하는지 봅시다.\n",
    "예측 점수는 약 82% 정확도이며 라벨 값은 1(심장병을 의미)입니다."
   ]
  },
  {
   "cell_type": "code",
   "execution_count": 13,
   "metadata": {},
   "outputs": [
    {
     "name": "stdout",
     "output_type": "stream",
     "text": [
      "{'predictions': [{'score': 0.8270459771156311, 'predicted_label': 1}]}\n"
     ]
    }
   ],
   "source": [
    "result = heartdisease_predictor.predict(vectors[5][0:13])\n",
    "print(result)"
   ]
  },
  {
   "cell_type": "markdown",
   "metadata": {},
   "source": [
    "## Endpoint 삭제"
   ]
  },
  {
   "cell_type": "code",
   "execution_count": 14,
   "metadata": {},
   "outputs": [],
   "source": [
    "import sagemaker\n",
    "\n",
    "heartdisease_predictor.delete_endpoint()"
   ]
  }
 ],
 "metadata": {
  "celltoolbar": "Tags",
  "kernelspec": {
   "display_name": "conda_python3",
   "language": "python",
   "name": "conda_python3"
  },
  "language_info": {
   "codemirror_mode": {
    "name": "ipython",
    "version": 3
   },
   "file_extension": ".py",
   "mimetype": "text/x-python",
   "name": "python",
   "nbconvert_exporter": "python",
   "pygments_lexer": "ipython3",
   "version": "3.6.13"
  },
  "notice": "Copyright 2017 Amazon.com, Inc. or its affiliates. All Rights Reserved.  Licensed under the Apache License, Version 2.0 (the \"License\"). You may not use this file except in compliance with the License. A copy of the License is located at http://aws.amazon.com/apache2.0/ or in the \"license\" file accompanying this file. This file is distributed on an \"AS IS\" BASIS, WITHOUT WARRANTIES OR CONDITIONS OF ANY KIND, either express or implied. See the License for the specific language governing permissions and limitations under the License."
 },
 "nbformat": 4,
 "nbformat_minor": 2
}
